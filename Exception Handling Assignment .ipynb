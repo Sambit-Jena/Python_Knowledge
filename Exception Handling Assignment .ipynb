{
 "cells": [
  {
   "cell_type": "markdown",
   "id": "f9d9a435-dad1-4537-aff3-ae1f42968edb",
   "metadata": {},
   "source": [
    "## Q1. What is an Exception in Python? Write the difference between Exceptions and Syntax errors."
   ]
  },
  {
   "cell_type": "markdown",
   "id": "cccc1475-74e3-4bfe-90ef-c2a61a8e48f3",
   "metadata": {},
   "source": [
    "An occurrence that occurs during the execution of a programme that obstructs the regular flow of the program's instructions is an exception. "
   ]
  },
  {
   "cell_type": "markdown",
   "id": "ef02ba90-ddd2-4319-ba2c-ba487f8785e8",
   "metadata": {},
   "source": [
    " Exception : In Python, an exception is an occurrence that occurs while a programme is being executed that prevents the instructions from proceeding normally. It means that something unexpected or incorrect has occurred, like a division by zero, an erroneous memory location access, or an attempt to open a file that doesn't exist."
   ]
  },
  {
   "cell_type": "markdown",
   "id": "88449fcc-14f8-448e-b29c-5bc28f642e64",
   "metadata": {},
   "source": [
    "Syntax errors : Syntax errors are grammatical or structural flaws in the code. They happen when the Python language's rules are broken, such as when there are no brackets, the indentation is done incorrectly, or an invalid keyword is used.Syntax errors are typically detected by the Python interpreter before the program starts running, and they prevent the program from executing at all."
   ]
  },
  {
   "cell_type": "markdown",
   "id": "26dc931a-e8b0-4126-b396-fec4137a709c",
   "metadata": {},
   "source": [
    "## Q2. What happens  when an exception is not hamdled? Expain with an example."
   ]
  },
  {
   "cell_type": "markdown",
   "id": "da571c49-9002-4dff-9020-c2a2af2d0e3e",
   "metadata": {},
   "source": [
    "In Python, if an exception is not handled, the programme will crash and display an error message called a \"unhandled exception\" or \"uncaught exception\". The programme halts normal operation and displays a traceback, which contains details about the type of exception, the line of code where it happened, and the call stack leading up to the exception, when an exception occurs and is not handled by an exception handler."
   ]
  },
  {
   "cell_type": "code",
   "execution_count": 7,
   "id": "55cc0cdb-84de-479a-b049-1aeab7e57bea",
   "metadata": {},
   "outputs": [
    {
     "ename": "ZeroDivisionError",
     "evalue": "division by zero",
     "output_type": "error",
     "traceback": [
      "\u001b[0;31m---------------------------------------------------------------------------\u001b[0m",
      "\u001b[0;31mZeroDivisionError\u001b[0m                         Traceback (most recent call last)",
      "Cell \u001b[0;32mIn[7], line 5\u001b[0m\n\u001b[1;32m      3\u001b[0m a\u001b[38;5;241m=\u001b[39m\u001b[38;5;241m25\u001b[39m\n\u001b[1;32m      4\u001b[0m b\u001b[38;5;241m=\u001b[39m\u001b[38;5;241m0\u001b[39m\n\u001b[0;32m----> 5\u001b[0m \u001b[38;5;28mprint\u001b[39m(\u001b[43ma\u001b[49m\u001b[38;5;241;43m/\u001b[39;49m\u001b[43mb\u001b[49m)\n",
      "\u001b[0;31mZeroDivisionError\u001b[0m: division by zero"
     ]
    }
   ],
   "source": [
    "## Example\n",
    "\n",
    "a=25\n",
    "b=0\n",
    "print(a/b)"
   ]
  },
  {
   "cell_type": "markdown",
   "id": "deac39ac-d2c0-4cb2-9fbf-81086c4d2f32",
   "metadata": {},
   "source": [
    "## Q3. Which Python statements are used to catch and handle exceptions? Explain with an example."
   ]
  },
  {
   "cell_type": "markdown",
   "id": "5c0f2907-0540-41e7-b720-af3b028d8414",
   "metadata": {},
   "source": [
    "In Python, the 'try' and 'except' statements are used to catch and handle exceptions. The 'try' block contains the code that may potentially raise an exception, and the 'except' block is used to indicate the code that should be executed when a particular exception occurs."
   ]
  },
  {
   "cell_type": "code",
   "execution_count": 8,
   "id": "18b8e191-46a0-4d50-9a15-3f224b12777d",
   "metadata": {},
   "outputs": [
    {
     "name": "stdout",
     "output_type": "stream",
     "text": [
      "denominator can't be zero\n"
     ]
    }
   ],
   "source": [
    "\n",
    "try:  \n",
    "    a=25\n",
    "    b=0\n",
    "    print(a/b)\n",
    "\n",
    "except ZeroDivisionError:\n",
    "    print(\"denominator can't be zero\")"
   ]
  },
  {
   "cell_type": "markdown",
   "id": "6ae757d8-fddb-4a61-89e1-e7f60a698ea1",
   "metadata": {},
   "source": [
    "## Q4. Expain with an example\n",
    "###  a. try and else\n",
    "### b. finally\n",
    "### c. raise"
   ]
  },
  {
   "cell_type": "markdown",
   "id": "d99e804c-f4fb-4cfa-ad33-51b18768436d",
   "metadata": {},
   "source": [
    "a.  try and else:\n",
    "\n",
    "    The try, except, and else statements work together to handle exceptions and execute code when no exceptions occur. If there are no exceptions raised within the try block, the else block is optional and is not executed.\n"
   ]
  },
  {
   "cell_type": "code",
   "execution_count": 1,
   "id": "ba5add96-2291-42f8-941b-33c4b7133918",
   "metadata": {},
   "outputs": [],
   "source": [
    "#example\n",
    "\n",
    "\n",
    "def divide(a, b):\n",
    "    try:\n",
    "        result = a / b\n",
    "    except ZeroDivisionError:\n",
    "        print(\"denominator can't be zero\")\n",
    "    else:\n",
    "        print(\"Division result:\", result)\n"
   ]
  },
  {
   "cell_type": "code",
   "execution_count": 2,
   "id": "27b931a8-18f1-4cf2-b86f-2994b35891b0",
   "metadata": {},
   "outputs": [
    {
     "name": "stdout",
     "output_type": "stream",
     "text": [
      "denominator can't be zero\n"
     ]
    }
   ],
   "source": [
    "divide(12,0)"
   ]
  },
  {
   "cell_type": "code",
   "execution_count": 3,
   "id": "b63bedb1-8bfa-4255-a319-1896f080f80a",
   "metadata": {},
   "outputs": [
    {
     "name": "stdout",
     "output_type": "stream",
     "text": [
      "Division result: 6.0\n"
     ]
    }
   ],
   "source": [
    "divide(12,2)"
   ]
  },
  {
   "cell_type": "markdown",
   "id": "b5131f9c-248f-4ac4-be82-b1375878a3c6",
   "metadata": {},
   "source": [
    "b. finally:\n",
    "   \n",
    "   The finally block is used to define code that must be run whether or not an exception has occurred. \n",
    "\n"
   ]
  },
  {
   "cell_type": "code",
   "execution_count": 4,
   "id": "1acfb262-5044-4746-ac5f-e50223bede66",
   "metadata": {},
   "outputs": [
    {
     "name": "stdout",
     "output_type": "stream",
     "text": [
      "may there is a issue  but the finally can be print\n"
     ]
    },
    {
     "ename": "UnsupportedOperation",
     "evalue": "not writable",
     "output_type": "error",
     "traceback": [
      "\u001b[0;31m---------------------------------------------------------------------------\u001b[0m",
      "\u001b[0;31mUnsupportedOperation\u001b[0m                      Traceback (most recent call last)",
      "Cell \u001b[0;32mIn[4], line 4\u001b[0m\n\u001b[1;32m      2\u001b[0m \u001b[38;5;28;01mtry\u001b[39;00m:\n\u001b[1;32m      3\u001b[0m     f\u001b[38;5;241m=\u001b[39m\u001b[38;5;28mopen\u001b[39m(\u001b[38;5;124m\"\u001b[39m\u001b[38;5;124mdemo.txt\u001b[39m\u001b[38;5;124m\"\u001b[39m,\u001b[38;5;124m\"\u001b[39m\u001b[38;5;124mr\u001b[39m\u001b[38;5;124m\"\u001b[39m)\n\u001b[0;32m----> 4\u001b[0m     \u001b[43mf\u001b[49m\u001b[38;5;241;43m.\u001b[39;49m\u001b[43mwrite\u001b[49m\u001b[43m(\u001b[49m\u001b[38;5;124;43m\"\u001b[39;49m\u001b[38;5;124;43mthis is sprata\u001b[39;49m\u001b[38;5;124;43m\"\u001b[39;49m\u001b[43m)\u001b[49m\n\u001b[1;32m      5\u001b[0m \u001b[38;5;28;01mfinally\u001b[39;00m:     \u001b[38;5;66;03m## finally specially use when there is a error but the finally statement can be print\u001b[39;00m\n\u001b[1;32m      6\u001b[0m     \u001b[38;5;28mprint\u001b[39m(\u001b[38;5;124m\"\u001b[39m\u001b[38;5;124mmay there is a issue  but the finally can be print\u001b[39m\u001b[38;5;124m\"\u001b[39m)\n",
      "\u001b[0;31mUnsupportedOperation\u001b[0m: not writable"
     ]
    }
   ],
   "source": [
    "#Example\n",
    "try:\n",
    "    f=open(\"demo.txt\",\"r\")\n",
    "    f.write(\"this is sprata\")\n",
    "finally:     \n",
    "    print(\"may there is a issue  but the finally can be print\")\n"
   ]
  },
  {
   "cell_type": "markdown",
   "id": "c45c3e08-633a-4c9b-aad7-45ef881b3b3d",
   "metadata": {},
   "source": [
    "c. raise\n",
    "\n",
    "     The raise statement is used to explicitly raise an exception in Python. It allows you to create and trigger your own exceptions when certain conditions are met."
   ]
  },
  {
   "cell_type": "code",
   "execution_count": 5,
   "id": "9a44498c-2ad9-4591-9653-07ea8658ced5",
   "metadata": {},
   "outputs": [
    {
     "name": "stdout",
     "output_type": "stream",
     "text": [
      "ValueError Exception! Value must be within 1 and 10.\n"
     ]
    }
   ],
   "source": [
    "# example\n",
    "\n",
    "try:\n",
    "    Ex = ValueError()\n",
    "    Ex.strerror = \"Value must be within 1 and 10.\"\n",
    "    raise Ex\n",
    "except ValueError as e:\n",
    "    print(\"ValueError Exception!\", e.strerror)"
   ]
  },
  {
   "cell_type": "markdown",
   "id": "90e0badb-710f-49eb-bc40-c784c0417c25",
   "metadata": {},
   "source": [
    "## What are Custom Exceptions in python? Why do we need Custom Exceptions? Expain with an example."
   ]
  },
  {
   "cell_type": "markdown",
   "id": "e3dd4550-40fd-4321-9e5e-0a7d2ec8ce3d",
   "metadata": {},
   "source": [
    "Custom exceptions in Python are user-defined exception classes that inherit from the built-in Exception class or any of its subclasses.They give programmers the freedom to specify the particular kinds of exceptions that can be produced and handled in their code."
   ]
  },
  {
   "cell_type": "markdown",
   "id": "90bf33cb-2187-4d41-9769-1f975b8567f8",
   "metadata": {},
   "source": [
    "* Custom exceptions help improve the readability and maintainability of code by providing meaningful names that reflect the specific error or exceptional condition being handled. \n",
    "\n",
    "* With base exception classes and more specialised subclasses, custom exceptions can be arranged in a hierarchy. \n",
    "\n",
    "* With custom exceptions, developers can catch and handle different types of exceptions at different levels of code"
   ]
  },
  {
   "cell_type": "code",
   "execution_count": 3,
   "id": "7191862a-846c-4562-bf16-b9030d93a9a5",
   "metadata": {},
   "outputs": [
    {
     "name": "stdin",
     "output_type": "stream",
     "text": [
      "Enter your age:  -11\n"
     ]
    },
    {
     "name": "stdout",
     "output_type": "stream",
     "text": [
      "Age should not be negative\n"
     ]
    }
   ],
   "source": [
    "class ValidAgeError(Exception):\n",
    "    pass\n",
    "\n",
    "def age_validation(age):\n",
    "    if age < 0:\n",
    "        raise ValidAgeError(\"Age should not be negative\")\n",
    "    elif age > 150:\n",
    "        raise ValidAgeError(\"Age is too high\")\n",
    "    else:\n",
    "        print(\"Age is valid\")\n",
    "\n",
    "try:\n",
    "    age = int(input(\"Enter your age: \"))\n",
    "    age_validation(age)\n",
    "except ValidAgeError as e:\n",
    "    print(e)"
   ]
  },
  {
   "cell_type": "markdown",
   "id": "1a2c9265-d30f-485c-b333-37f598b6a583",
   "metadata": {},
   "source": [
    "## Q6. Create a Custom Exception class. Use this class to handle an exception."
   ]
  },
  {
   "cell_type": "code",
   "execution_count": 7,
   "id": "693f7ee7-a7ff-4416-b247-8b8f7c9b23a0",
   "metadata": {},
   "outputs": [
    {
     "name": "stdout",
     "output_type": "stream",
     "text": [
      "Denominator cannot be zero.\n"
     ]
    }
   ],
   "source": [
    "class CustomException(Exception):\n",
    "    pass\n",
    "\n",
    "def divide(a, b):\n",
    "    try:\n",
    "        if b == 0:\n",
    "            raise CustomException(\"Denominator cannot be zero.\")\n",
    "        result = a / b\n",
    "        print(\"Division result:\", result)\n",
    "    except CustomException as e:\n",
    "        print(e)\n",
    "\n",
    "\n",
    "\n",
    "divide(20,0)"
   ]
  },
  {
   "cell_type": "code",
   "execution_count": null,
   "id": "65ae3335-6d09-43da-b82c-9249bb7c4e09",
   "metadata": {},
   "outputs": [],
   "source": []
  }
 ],
 "metadata": {
  "kernelspec": {
   "display_name": "Python 3 (ipykernel)",
   "language": "python",
   "name": "python3"
  },
  "language_info": {
   "codemirror_mode": {
    "name": "ipython",
    "version": 3
   },
   "file_extension": ".py",
   "mimetype": "text/x-python",
   "name": "python",
   "nbconvert_exporter": "python",
   "pygments_lexer": "ipython3",
   "version": "3.10.8"
  }
 },
 "nbformat": 4,
 "nbformat_minor": 5
}
