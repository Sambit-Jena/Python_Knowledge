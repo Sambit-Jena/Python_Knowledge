{
 "cells": [
  {
   "cell_type": "markdown",
   "id": "eedc3e86",
   "metadata": {},
   "source": [
    "# A python program to sort the given list of tuples based on integer value using a lambda function.\n"
   ]
  },
  {
   "cell_type": "code",
   "execution_count": 1,
   "id": "d1de880e",
   "metadata": {},
   "outputs": [],
   "source": [
    "tuple_1=[('Sachin Tendulkar', 34357), ('Ricky Ponting', 27483), ('Jack Kallis', 25534), ('Virat Kohli', 24936)]"
   ]
  },
  {
   "cell_type": "code",
   "execution_count": 3,
   "id": "e43c80ec",
   "metadata": {},
   "outputs": [
    {
     "name": "stdout",
     "output_type": "stream",
     "text": [
      "('Virat Kohli', 24936)\n",
      "('Jack Kallis', 25534)\n",
      "('Ricky Ponting', 27483)\n",
      "('Sachin Tendulkar', 34357)\n"
     ]
    }
   ],
   "source": [
    "# Sorting the list based on the integer value using a lambda function\n",
    "data = sorted(tuple_1, key=lambda x: x[1])\n",
    "for i in data:\n",
    "    print(i)"
   ]
  },
  {
   "cell_type": "markdown",
   "id": "83acec37",
   "metadata": {},
   "source": [
    "# A Python Program to find the squares of all the numbers in the given list of integers using lambda and map functions."
   ]
  },
  {
   "cell_type": "code",
   "execution_count": 4,
   "id": "45829156",
   "metadata": {},
   "outputs": [
    {
     "data": {
      "text/plain": [
       "[1, 4, 9, 16, 25, 36, 49, 64, 81, 100]"
      ]
     },
     "execution_count": 4,
     "metadata": {},
     "output_type": "execute_result"
    }
   ],
   "source": [
    "list_1=[1, 2, 3, 4, 5, 6, 7, 8, 9, 10]\n",
    "squares_no= list(map( lambda x : x**2,list_1))\n",
    "squares_no"
   ]
  },
  {
   "cell_type": "markdown",
   "id": "2c1c433c",
   "metadata": {},
   "source": [
    "# A python program to convert the given list of integers into a tuple of strings. Use map and lambda functions"
   ]
  },
  {
   "cell_type": "code",
   "execution_count": 5,
   "id": "09124b1e",
   "metadata": {},
   "outputs": [
    {
     "data": {
      "text/plain": [
       "('1', '2', '3', '4', '5', '6', '7', '8', '9', '10')"
      ]
     },
     "execution_count": 5,
     "metadata": {},
     "output_type": "execute_result"
    }
   ],
   "source": [
    "given_list=[1, 2, 3, 4, 5, 6, 7, 8, 9, 10]\n",
    "string_output= tuple(map( lambda x : str(x),given_list))\n",
    "string_output"
   ]
  },
  {
   "cell_type": "markdown",
   "id": "b8c5a1c1",
   "metadata": {},
   "source": [
    "# Write a python program using reduce function to compute the product of a list containing numbers from 1 to 25."
   ]
  },
  {
   "cell_type": "code",
   "execution_count": 1,
   "id": "fc7c1da2",
   "metadata": {},
   "outputs": [],
   "source": [
    "list_2=list(range(1,26))"
   ]
  },
  {
   "cell_type": "code",
   "execution_count": 2,
   "id": "2720b50f",
   "metadata": {},
   "outputs": [
    {
     "data": {
      "text/plain": [
       "15511210043330985984000000"
      ]
     },
     "execution_count": 2,
     "metadata": {},
     "output_type": "execute_result"
    }
   ],
   "source": [
    "from functools import reduce\n",
    "reduce (lambda x,y:x*y,list_2)"
   ]
  },
  {
   "cell_type": "markdown",
   "id": "71ca5c65",
   "metadata": {},
   "source": [
    "# A python program to filter the numbers in a given list that are divisible by 2 and 3 using the filter function."
   ]
  },
  {
   "cell_type": "code",
   "execution_count": 3,
   "id": "96f53f49",
   "metadata": {},
   "outputs": [
    {
     "data": {
      "text/plain": [
       "[6, 60, 90, 120]"
      ]
     },
     "execution_count": 3,
     "metadata": {},
     "output_type": "execute_result"
    }
   ],
   "source": [
    "list_3=[2, 3, 6, 9, 27, 60, 90, 120, 55, 46]\n",
    "list(filter (lambda x:x%2==0 and x%3==0,list_3))"
   ]
  },
  {
   "cell_type": "markdown",
   "id": "d60a3124",
   "metadata": {},
   "source": [
    "# A python program to find palindromes in the given list of strings using lambda and filter function."
   ]
  },
  {
   "cell_type": "code",
   "execution_count": 4,
   "id": "9c1b0564",
   "metadata": {},
   "outputs": [
    {
     "name": "stdout",
     "output_type": "stream",
     "text": [
      "['php', 'aba', 'radar', 'level']\n"
     ]
    }
   ],
   "source": [
    "list_4=['python', 'php', 'aba', 'radar', 'level']\n",
    "\n",
    "palindromes_strings = list(filter(lambda s: s == s[::-1], list_4))\n",
    "print(palindromes_strings)"
   ]
  },
  {
   "cell_type": "code",
   "execution_count": null,
   "id": "cfa8e1e4",
   "metadata": {},
   "outputs": [],
   "source": []
  }
 ],
 "metadata": {
  "kernelspec": {
   "display_name": "Python 3",
   "language": "python",
   "name": "python3"
  },
  "language_info": {
   "codemirror_mode": {
    "name": "ipython",
    "version": 3
   },
   "file_extension": ".py",
   "mimetype": "text/x-python",
   "name": "python",
   "nbconvert_exporter": "python",
   "pygments_lexer": "ipython3",
   "version": "3.8.8"
  }
 },
 "nbformat": 4,
 "nbformat_minor": 5
}
