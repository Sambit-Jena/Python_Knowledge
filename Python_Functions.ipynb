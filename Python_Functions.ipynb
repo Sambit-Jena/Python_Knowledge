{
 "cells": [
  {
   "cell_type": "markdown",
   "id": "e4a472be",
   "metadata": {},
   "source": [
    "#The \"def\" keyword is used to create a function in Python."
   ]
  },
  {
   "cell_type": "code",
   "execution_count": 1,
   "id": "d8b639be",
   "metadata": {},
   "outputs": [],
   "source": [
    "#Create a function to return a list of odd numbers in the range of 1 to 25.\n",
    "l=range(1,25)"
   ]
  },
  {
   "cell_type": "code",
   "execution_count": 2,
   "id": "1cb4f9f1",
   "metadata": {},
   "outputs": [],
   "source": [
    "def test(a):\n",
    "    odd_numbers=[]\n",
    "    for i in a:\n",
    "        if i%2!=0:\n",
    "            odd_numbers.append(i)\n",
    "    return odd_numbers"
   ]
  },
  {
   "cell_type": "code",
   "execution_count": 3,
   "id": "1a0d6cad",
   "metadata": {},
   "outputs": [
    {
     "data": {
      "text/plain": [
       "[1, 3, 5, 7, 9, 11, 13, 15, 17, 19, 21, 23]"
      ]
     },
     "execution_count": 3,
     "metadata": {},
     "output_type": "execute_result"
    }
   ],
   "source": [
    "test(l)"
   ]
  },
  {
   "cell_type": "code",
   "execution_count": 4,
   "id": "661b8efd",
   "metadata": {},
   "outputs": [],
   "source": [
    "#A function can take as many positional arguments as necessary by using the *args parameter.\n",
    "\n",
    "def function1(*args):\n",
    "    for i in args:\n",
    "        print(i)"
   ]
  },
  {
   "cell_type": "code",
   "execution_count": 5,
   "id": "f3d92a7b",
   "metadata": {},
   "outputs": [
    {
     "name": "stdout",
     "output_type": "stream",
     "text": [
      "12\n",
      "26.7\n",
      "sambit\n",
      "True\n"
     ]
    }
   ],
   "source": [
    "function1(12,26.7,\"sambit\",True)"
   ]
  },
  {
   "cell_type": "code",
   "execution_count": 6,
   "id": "a18fbd6f",
   "metadata": {},
   "outputs": [],
   "source": [
    "# **kwargs stands for \"keyword arguments\" and allows a function to accept any number of keyword arguments as a dictionary within the function\n",
    "\n",
    "def function2(**kwargs):\n",
    "    for keys, values in kwargs.items():\n",
    "        print(keys, values)\n"
   ]
  },
  {
   "cell_type": "code",
   "execution_count": 7,
   "id": "4c83c579",
   "metadata": {},
   "outputs": [
    {
     "name": "stdout",
     "output_type": "stream",
     "text": [
      "name Sambit\n",
      "age 23\n",
      "city Bhubaneswar\n",
      "Height 5.8\n"
     ]
    }
   ],
   "source": [
    "function2(name=\"Sambit\", age=23, city=\"Bhubaneswar\", Height=5.8)"
   ]
  },
  {
   "cell_type": "code",
   "execution_count": 8,
   "id": "c2c0e0cd",
   "metadata": {},
   "outputs": [],
   "source": [
    "#In Python, the method used to initialize the iterator object is __iter__(), and the method used for iteration is __next__()."
   ]
  },
  {
   "cell_type": "code",
   "execution_count": 9,
   "id": "4ed112bd",
   "metadata": {},
   "outputs": [],
   "source": [
    "class Iterator_list:\n",
    "    def __init__(a, b):\n",
    "        a.b = b\n",
    "        a.index = 0\n",
    "\n",
    "    def __iter__(a):\n",
    "        return a\n",
    "\n",
    "    def __next__(a):\n",
    "        if a.index < len(a.b) and a.index < 5:\n",
    "            value =a.b[a.index]\n",
    "            a.index += 1\n",
    "            return value\n",
    "        else:\n",
    "            raise StopIteration"
   ]
  },
  {
   "cell_type": "code",
   "execution_count": 10,
   "id": "6afe30ea",
   "metadata": {
    "scrolled": true
   },
   "outputs": [
    {
     "name": "stdout",
     "output_type": "stream",
     "text": [
      "2\n",
      "4\n",
      "6\n",
      "8\n",
      "10\n"
     ]
    }
   ],
   "source": [
    "my_list = [2, 4, 6, 8, 10, 12, 14, 16, 18, 20]\n",
    "my_iterator = Iterator_list(my_list)\n",
    "\n",
    "for i in my_iterator:\n",
    "    print(i)"
   ]
  },
  {
   "cell_type": "code",
   "execution_count": 11,
   "id": "12c934ab",
   "metadata": {},
   "outputs": [],
   "source": [
    "#In Python, a generator function is a special type of function that generates a sequence of values "
   ]
  },
  {
   "cell_type": "code",
   "execution_count": 12,
   "id": "d7305a4e",
   "metadata": {},
   "outputs": [],
   "source": [
    "#The yield keyword inside a generator function is used to return a generator object instead of values."
   ]
  },
  {
   "cell_type": "code",
   "execution_count": 13,
   "id": "e4ec2f26",
   "metadata": {},
   "outputs": [],
   "source": [
    "def square_generator(n):\n",
    "    for i in range(n):\n",
    "        yield i ** 2"
   ]
  },
  {
   "cell_type": "code",
   "execution_count": 14,
   "id": "a0d0f0ee",
   "metadata": {},
   "outputs": [
    {
     "name": "stdout",
     "output_type": "stream",
     "text": [
      "0\n",
      "1\n",
      "4\n",
      "9\n",
      "16\n"
     ]
    }
   ],
   "source": [
    "for i in square_generator(5):\n",
    "    print(i)"
   ]
  },
  {
   "cell_type": "code",
   "execution_count": 7,
   "id": "c31c4f5c",
   "metadata": {},
   "outputs": [],
   "source": [
    "#create a generator function for prime numbers less than 1000. Use the next() method to print the first 20 prime numbers.\n",
    "def prime_generator():\n",
    "    primes = []\n",
    "    num = 2\n",
    "\n",
    "    while True:\n",
    "        if all(num % prime != 0 for prime in primes):\n",
    "            primes.append(num)\n",
    "            yield num\n",
    "        num += 1"
   ]
  },
  {
   "cell_type": "code",
   "execution_count": 8,
   "id": "b9c4cd7e",
   "metadata": {},
   "outputs": [],
   "source": [
    "l=range(20)"
   ]
  },
  {
   "cell_type": "code",
   "execution_count": 6,
   "id": "1a96c941",
   "metadata": {},
   "outputs": [
    {
     "name": "stdout",
     "output_type": "stream",
     "text": [
      "2\n",
      "3\n",
      "5\n",
      "7\n",
      "11\n",
      "13\n",
      "17\n",
      "19\n",
      "23\n",
      "29\n",
      "31\n",
      "37\n",
      "41\n",
      "43\n",
      "47\n",
      "53\n",
      "59\n",
      "61\n",
      "67\n",
      "71\n"
     ]
    }
   ],
   "source": [
    "my_generator = prime_generator()\n",
    "\n",
    "# Print the first 20 prime numbers\n",
    "for _ in range(20):\n",
    "    prime = next(my_generator)\n",
    "    print(prime)"
   ]
  }
 ],
 "metadata": {
  "kernelspec": {
   "display_name": "Python 3",
   "language": "python",
   "name": "python3"
  },
  "language_info": {
   "codemirror_mode": {
    "name": "ipython",
    "version": 3
   },
   "file_extension": ".py",
   "mimetype": "text/x-python",
   "name": "python",
   "nbconvert_exporter": "python",
   "pygments_lexer": "ipython3",
   "version": "3.8.8"
  }
 },
 "nbformat": 4,
 "nbformat_minor": 5
}
