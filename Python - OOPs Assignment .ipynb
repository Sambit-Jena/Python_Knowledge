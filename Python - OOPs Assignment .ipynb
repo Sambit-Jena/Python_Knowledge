{
 "cells": [
  {
   "cell_type": "markdown",
   "id": "66742faa-8ef8-46a6-9b04-96fcf7084ece",
   "metadata": {},
   "source": [
    "### Q1. Explain Class and Object with respect to Object-Oriented Programming. Give a suitable example."
   ]
  },
  {
   "cell_type": "markdown",
   "id": "b4ae0be6-5bb7-4ff1-be4c-6bc6231c9add",
   "metadata": {},
   "source": [
    " CLASS - A class is a blueprint or template used for developing objects in object-oriented programming (OOP). It specifies a collection of properties (data) and operations (functions) that class objects will have."
   ]
  },
  {
   "cell_type": "markdown",
   "id": "819f416e-c5bd-4b56-91ae-abd603b3ad93",
   "metadata": {},
   "source": [
    "OBJECT - An object is a specific instance of a class. It represents a particular thing that, depending on the class to which it belongs."
   ]
  },
  {
   "cell_type": "code",
   "execution_count": 7,
   "id": "a61fd352-563a-4a89-a0f9-7e7325f50299",
   "metadata": {},
   "outputs": [],
   "source": [
    "#Example:\n",
    "#creation of a class\n",
    "\n",
    "class car:\n",
    "    def __init__(self,brand,model,colour):\n",
    "        self.brand=brand\n",
    "        self.model=model\n",
    "        self.colour=colour\n",
    "    \n",
    "    def car_details(self):\n",
    "        return self.brand,self.model,self.colour"
   ]
  },
  {
   "cell_type": "code",
   "execution_count": 8,
   "id": "3fda7469-826b-4a1d-8ac0-26359783fd9f",
   "metadata": {},
   "outputs": [],
   "source": [
    "#creation of object\n",
    "my_car=car(\"TATA\",\"Harrier\",\"Black\")"
   ]
  },
  {
   "cell_type": "code",
   "execution_count": 9,
   "id": "453398ee-828c-4a71-83a9-638300b70670",
   "metadata": {},
   "outputs": [
    {
     "data": {
      "text/plain": [
       "'TATA'"
      ]
     },
     "execution_count": 9,
     "metadata": {},
     "output_type": "execute_result"
    }
   ],
   "source": [
    "my_car.brand"
   ]
  },
  {
   "cell_type": "code",
   "execution_count": 10,
   "id": "69da78f0-3990-4acf-bf6a-77429abb3cb3",
   "metadata": {},
   "outputs": [
    {
     "data": {
      "text/plain": [
       "('TATA', 'Harrier', 'Black')"
      ]
     },
     "execution_count": 10,
     "metadata": {},
     "output_type": "execute_result"
    }
   ],
   "source": [
    "my_car.car_details()"
   ]
  },
  {
   "cell_type": "markdown",
   "id": "60fc6501-2cdf-4bd1-8516-65837025c0d4",
   "metadata": {},
   "source": [
    "### Q2. Name the four pillars of OOPs."
   ]
  },
  {
   "cell_type": "markdown",
   "id": "e2ccdc93-8878-4c32-a6be-f8495b1eebb9",
   "metadata": {},
   "source": [
    "*Polymorphism, Encapsulation, Inheritance, Abstraction class these four are the pillars of OOPs."
   ]
  },
  {
   "cell_type": "markdown",
   "id": "a56c12ad-89a2-4f02-9d72-eac986079c62",
   "metadata": {},
   "source": [
    "Polymorphism: Polymorphism refers to the ability of objects of different classes to respond differently to the same message or method call.\n",
    "\n",
    "Encapsulation: In encapsulation, data and methods associated with that data are bundled into a single unit.\n",
    "\n",
    "Inheritance: Inheritance is the mechanism that allows a class to inherit properties and behaviors from another class.\n",
    "\n",
    "Abstraction class: Abstraction class is the process of representing essential features without including the background details or complexities."
   ]
  },
  {
   "cell_type": "markdown",
   "id": "11e96355-f960-4ab1-b0e7-254ca94fb27d",
   "metadata": {},
   "source": [
    "### Q3. Explain why the __init__() function is used. Give a suitable example."
   ]
  },
  {
   "cell_type": "markdown",
   "id": "9aad1737-9ccf-4336-893d-9b1c1fe952e6",
   "metadata": {},
   "source": [
    "The __init__() function is a special method in Python classes that is automatically called when an object is created from that class. It stands for \"initialize\" and is used to initialize the attributes of an object.\n",
    "\n",
    "In the below example  the __init__() function is the constructor method for the Car class. It is automatically called when a new instance of the class is created. "
   ]
  },
  {
   "cell_type": "code",
   "execution_count": 1,
   "id": "6454ee74-3424-44f8-850a-7fc5dcfa7b98",
   "metadata": {},
   "outputs": [],
   "source": [
    "#Example\n",
    "\n",
    "class Car:\n",
    "    def __init__(self, brand, model, year):\n",
    "        self.brand = brand\n",
    "        self.model = model\n",
    "        self.year = year\n",
    "    \n",
    "    def car_details(self):\n",
    "        return self.brand,self.model,self.year"
   ]
  },
  {
   "cell_type": "code",
   "execution_count": 3,
   "id": "cf8f83ee-1f08-4f86-8991-3b2652785190",
   "metadata": {},
   "outputs": [],
   "source": [
    "my_car=Car(\"BMW\",\"BMW Z4BM40i\",2019)"
   ]
  },
  {
   "cell_type": "code",
   "execution_count": 5,
   "id": "05252c63-f7a2-4e4a-9fed-54ecfcd3020c",
   "metadata": {},
   "outputs": [
    {
     "data": {
      "text/plain": [
       "('BMW', 'BMW Z4BM40i', 2019)"
      ]
     },
     "execution_count": 5,
     "metadata": {},
     "output_type": "execute_result"
    }
   ],
   "source": [
    "my_car.car_details()"
   ]
  },
  {
   "cell_type": "markdown",
   "id": "3982698c-6935-4f68-a0f1-62c70d39ae0a",
   "metadata": {},
   "source": [
    "### Q4. Why self is used in OOPs?"
   ]
  },
  {
   "cell_type": "markdown",
   "id": "727bfb62-3395-484c-97b3-1e428eef79fa",
   "metadata": {},
   "source": [
    "In object-oriented programming (OOPs), 'self' is a reference to the instance of a class. It is a convention used in many object-oriented languages. The use of 'self' is important for accessing and manipulating the attributes and methods of the object within its own class."
   ]
  },
  {
   "cell_type": "code",
   "execution_count": 15,
   "id": "45c0af3d-94cd-4bb6-ae55-3c011b749587",
   "metadata": {},
   "outputs": [],
   "source": [
    "# Example\n",
    "\n",
    "class Person:\n",
    "    def __init__(self,age):\n",
    "        self.age = age"
   ]
  },
  {
   "cell_type": "code",
   "execution_count": 16,
   "id": "4bcc2ae5-4e7d-4c75-8550-8c8761399ef8",
   "metadata": {},
   "outputs": [],
   "source": [
    "sambit=Person(23)"
   ]
  },
  {
   "cell_type": "code",
   "execution_count": 20,
   "id": "4d0b844d-a109-47d3-bba7-4ee28a585728",
   "metadata": {},
   "outputs": [
    {
     "data": {
      "text/plain": [
       "23"
      ]
     },
     "execution_count": 20,
     "metadata": {},
     "output_type": "execute_result"
    }
   ],
   "source": [
    "sambit.age"
   ]
  },
  {
   "cell_type": "markdown",
   "id": "7f1c5c69-d7cc-4824-b6fe-9bdfcd590974",
   "metadata": {},
   "source": [
    "### Q5. What is inheritance? Give an example for each type of inheritance."
   ]
  },
  {
   "cell_type": "markdown",
   "id": "23341536-ff95-4409-bd92-e185513a0a23",
   "metadata": {},
   "source": [
    "Inheritance: Inheritance is the mechanism that allows a class to inherit properties and behaviors from another class.\n",
    "The class that is inherited from is called the superclass, base class, or parent class, and the class that inherits is called the subclass, derived class, or child class. "
   ]
  },
  {
   "cell_type": "code",
   "execution_count": 13,
   "id": "84c63f50-7b93-4eaa-977a-000549383302",
   "metadata": {},
   "outputs": [],
   "source": [
    "#Example - Single Inheritance\n",
    "\n",
    "class mobile:\n",
    "    def phone_name1(self):\n",
    "        print(\"this is a phone\")"
   ]
  },
  {
   "cell_type": "code",
   "execution_count": 14,
   "id": "52d9fa2c-13cf-4fa4-b701-c18b2e4f5bd4",
   "metadata": {},
   "outputs": [],
   "source": [
    "name_of_phone=mobile()"
   ]
  },
  {
   "cell_type": "code",
   "execution_count": 16,
   "id": "f6ccf091-2881-4ded-babb-a241578fc154",
   "metadata": {},
   "outputs": [
    {
     "name": "stdout",
     "output_type": "stream",
     "text": [
      "this is a phone\n"
     ]
    }
   ],
   "source": [
    "name_of_phone.phone_name1()"
   ]
  },
  {
   "cell_type": "code",
   "execution_count": 17,
   "id": "f9bd0a1b-cbcd-48b0-9982-97a9b567f46c",
   "metadata": {},
   "outputs": [],
   "source": [
    "#Example - Multiple Inheritance\n",
    "\n",
    "class college1():\n",
    "    def college_name1(self):\n",
    "        print(\"FM college\")\n",
    "\n",
    "class college2():\n",
    "    def college_name2(self):\n",
    "        print(\"DK college\")\n",
    "\n",
    "class university(college1,college2):\n",
    "    def college_name3(self):\n",
    "        print(\"Utkal university\")"
   ]
  },
  {
   "cell_type": "code",
   "execution_count": 18,
   "id": "38361a93-5c22-47a2-9bd6-aad831e39985",
   "metadata": {},
   "outputs": [],
   "source": [
    "educational_institutional_name = university()"
   ]
  },
  {
   "cell_type": "code",
   "execution_count": 19,
   "id": "e53c8fd3-1d5d-4632-97da-ed6442d50ad4",
   "metadata": {},
   "outputs": [
    {
     "name": "stdout",
     "output_type": "stream",
     "text": [
      "DK college\n"
     ]
    }
   ],
   "source": [
    "educational_institutional_name.college_name2()"
   ]
  },
  {
   "cell_type": "code",
   "execution_count": 20,
   "id": "2ccac4f5-38eb-468d-95ec-4607abf8eacd",
   "metadata": {},
   "outputs": [
    {
     "name": "stdout",
     "output_type": "stream",
     "text": [
      "FM college\n"
     ]
    }
   ],
   "source": [
    "educational_institutional_name.college_name1()"
   ]
  },
  {
   "cell_type": "code",
   "execution_count": 21,
   "id": "3ccab98c-b1ae-4933-b2db-ca35e19ecf5c",
   "metadata": {},
   "outputs": [
    {
     "name": "stdout",
     "output_type": "stream",
     "text": [
      "Utkal university\n"
     ]
    }
   ],
   "source": [
    "educational_institutional_name.college_name3()"
   ]
  },
  {
   "cell_type": "code",
   "execution_count": 23,
   "id": "4ffdbdb8-ada1-45cf-a760-09dd6eb8057e",
   "metadata": {},
   "outputs": [],
   "source": [
    "#Example - Multilevel Inheritance\n",
    "\n",
    "class mobile:\n",
    "    def phone_name1(self):\n",
    "        print(\"this is a phone\")\n",
    "        \n",
    "class vivo(mobile):\n",
    "    def phone_name2(self):\n",
    "        print(\"this is a vivo phone\")\n",
    "\n",
    "class z6pro(vivo):\n",
    "    def phone_name3(self):\n",
    "        print(\"this is vivo IQOO z6 pro phone\")\n",
    "        "
   ]
  },
  {
   "cell_type": "code",
   "execution_count": 24,
   "id": "daff8c8d-f6b4-43bd-829c-26677627945a",
   "metadata": {},
   "outputs": [],
   "source": [
    "name_of_phone=z6pro()"
   ]
  },
  {
   "cell_type": "code",
   "execution_count": 25,
   "id": "cde1dc53-6bf8-430d-8069-64ba363845c6",
   "metadata": {},
   "outputs": [
    {
     "name": "stdout",
     "output_type": "stream",
     "text": [
      "this is a vivo phone\n"
     ]
    }
   ],
   "source": [
    "name_of_phone.phone_name2()"
   ]
  },
  {
   "cell_type": "code",
   "execution_count": 26,
   "id": "0d428eba-0d6b-4111-ac4b-105ec52bf691",
   "metadata": {},
   "outputs": [
    {
     "name": "stdout",
     "output_type": "stream",
     "text": [
      "this is a phone\n"
     ]
    }
   ],
   "source": [
    "name_of_phone.phone_name1()"
   ]
  },
  {
   "cell_type": "code",
   "execution_count": 27,
   "id": "0a25095f-c542-4e62-b6d6-6da5e8bd8740",
   "metadata": {},
   "outputs": [
    {
     "name": "stdout",
     "output_type": "stream",
     "text": [
      "this is vivo IQOO z6 pro phone\n"
     ]
    }
   ],
   "source": [
    "name_of_phone.phone_name3()"
   ]
  }
 ],
 "metadata": {
  "kernelspec": {
   "display_name": "Python 3 (ipykernel)",
   "language": "python",
   "name": "python3"
  },
  "language_info": {
   "codemirror_mode": {
    "name": "ipython",
    "version": 3
   },
   "file_extension": ".py",
   "mimetype": "text/x-python",
   "name": "python",
   "nbconvert_exporter": "python",
   "pygments_lexer": "ipython3",
   "version": "3.10.8"
  }
 },
 "nbformat": 4,
 "nbformat_minor": 5
}
