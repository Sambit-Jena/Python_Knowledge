{
 "cells": [
  {
   "cell_type": "markdown",
   "id": "31919edc-b577-42a1-a385-63cea2c9ae10",
   "metadata": {},
   "source": [
    "## Q1. What is multiprocessing in python? Why is it useful?"
   ]
  },
  {
   "cell_type": "markdown",
   "id": "10b4d707-1873-40b0-ba2d-54e1249b865c",
   "metadata": {},
   "source": [
    "In Python, multiprocessing is a module that allows us to support multiple CPU cores to execute tasks concurrently. In order to take use of parallelism and spread the task across several CPU cores, it provides an interface for establishing and managing processes. "
   ]
  },
  {
   "cell_type": "markdown",
   "id": "d0ba4c7e-1ad3-46e6-a8eb-5fea7d81eceb",
   "metadata": {},
   "source": [
    "why multiprocessing is useful in Python:\n",
    "    \n",
    "    * By using multiple processes, we can execute tasks in parallel, leveraging the full power of your CPU cores.\n",
    "    \n",
    "    * Making effective use of the system resources available is possible with multiprocessing. While waiting for a task to finish, instead of leaving CPU cores idle.\n",
    "    \n",
    "    * In a single-threaded programme, performing time-consuming actions can make the programme unresponsive due to multiprocessing.\n",
    "    \n",
    "    * Code parallelization is comparatively simple because to the high-level interface for working with processes provided by the multiprocessing module.\n",
    "    "
   ]
  },
  {
   "cell_type": "markdown",
   "id": "d61892be-4a4a-4b34-a9b9-f07ff77ba9b8",
   "metadata": {},
   "source": [
    "## Q2. What are the differences between multiprocessing and multithreading?"
   ]
  },
  {
   "cell_type": "markdown",
   "id": "b958b8ba-7c9b-45bf-8856-c2743065640d",
   "metadata": {},
   "source": [
    "There are some of differences between multiprocessing and multithreading which are discussed below:\n",
    "    \n",
    "    1- In multiprocessing, multiple processes are created, and each process has its own memory space and resources. But in multithreading, multiple threads are created within a single process, and they share the same memory space and resources. \n",
    "    \n",
    "    2- Using multiprocessing, we can take advantage of multiple CPU cores, allowing us to run parallel programs. In the mean time multithreading in Python is not able to leverage multiple CPU cores effectively.\n",
    "    \n",
    "    3- A Python multithreading program cannot make use of multiple CPU cores effectively. In multithreading, all threads within a process share the same memory space, which means they can directly access and modify shared data as well.\n",
    "    \n",
    "    4- In multiprocessing, pipelines, queues, or shared memory are frequently used as communication channels between processes. But Multithreading simplifies communication between threads since they share memory \n",
    "    \n",
    "    5- The concept of multiprocessing involves creating and managing multiple processes, which adds overhead from a memory and communication perspective. In the same way Multithreading has less overhead as threads are created within the same process and can directly access shared memory. "
   ]
  },
  {
   "cell_type": "markdown",
   "id": "7e1e8d32-996c-4e58-b3d9-ccaeaf2572e8",
   "metadata": {},
   "source": [
    "## Q3. Write a python code to create a process using the multiprocessing module."
   ]
  },
  {
   "cell_type": "code",
   "execution_count": 1,
   "id": "59ed4219-a363-45dd-8ba0-313097fb42e9",
   "metadata": {},
   "outputs": [
    {
     "name": "stdout",
     "output_type": "stream",
     "text": [
      "this is sparta\n",
      "this is my very first multi processing  progrm\n"
     ]
    }
   ],
   "source": [
    "import multiprocessing\n",
    "\n",
    "def test():\n",
    "    print(\"this is my very first multi processing  progrm\")\n",
    "if __name__ ==\"__main__\":\n",
    "    m=multiprocessing.Process(target=test)\n",
    "    print(\"this is sparta\")\n",
    "    m.start()\n",
    "    m.join()"
   ]
  },
  {
   "cell_type": "markdown",
   "id": "e26a4669-d5c9-417f-b9fd-72caf96161ed",
   "metadata": {},
   "source": [
    "## Q4. What is a multiprocessing pool in python? Why is it used?"
   ]
  },
  {
   "cell_type": "markdown",
   "id": "6ef9fa66-d75e-49be-92a6-d2e61320de19",
   "metadata": {},
   "source": [
    "A multiprocessing pool in Python is a high-level abstraction that the multiprocessing module offers. We can use it to build a pool of concurrently running worker processes.\n",
    "\n",
    "USES:\n",
    "     \n",
    "     1- A predetermined number of worker processes are established when a multiprocessing pool is created. These processes are continuously running and available to carry out tasks from a task queue.\n",
    "     \n",
    "     2- We can submit tasks to the pool using the apply(), map(), or imap() methods. The pool automatically distributes the tasks among the available worker processes.\n",
    "     \n",
    "     3- For retrieving the results of executed tasks, the pool provides methods like get(), put() and next().\n",
    "     \n",
    "     4- With a multiprocessing pool, multiple tasks can be executed concurrently by different worker processes. By enabling parallelism, this can greatly speed up the execution of tasks that can be time-consuming."
   ]
  },
  {
   "cell_type": "code",
   "execution_count": 3,
   "id": "aa8f104c-08ff-4170-8d0c-ea540948d7ce",
   "metadata": {},
   "outputs": [
    {
     "name": "stdout",
     "output_type": "stream",
     "text": [
      "[27, 64, 125, 216, 21952, 970299, 27000]\n"
     ]
    }
   ],
   "source": [
    "# Example of POOL\n",
    "\n",
    "def cubes(n):\n",
    "    return n**3\n",
    "if __name__==\"__main__\":\n",
    "    with multiprocessing.Pool(processes=5) as pool:    ## here pool is use because it's taking pools of data\n",
    "        out = pool.map(cubes,[3,4,5,6,28,99,30])\n",
    "        print(out)"
   ]
  },
  {
   "cell_type": "markdown",
   "id": "99ba12ae-4935-4166-b3b6-a74054e18a70",
   "metadata": {},
   "source": [
    "## Q5. How can we create a pool of worker processes in python using the multiprocessing module?"
   ]
  },
  {
   "cell_type": "code",
   "execution_count": 1,
   "id": "a1614882-423e-4faa-9cb0-6374137ba589",
   "metadata": {},
   "outputs": [
    {
     "name": "stdout",
     "output_type": "stream",
     "text": [
      "[6, 8, 10, 12, 56, 198, 60]\n"
     ]
    }
   ],
   "source": [
    "import multiprocessing\n",
    "\n",
    "def worker(argument):\n",
    "    result = argument * 2\n",
    "    return result\n",
    "\n",
    "if __name__ == '__main__':\n",
    "    with multiprocessing.Pool(processes=5) as pool:      #multiprocessing pool with 5 worker processes\n",
    "        out = pool.map(worker,[3,4,5,6,28,99,30])\n",
    "        print(out)\n",
    "        pool.close()\n",
    "        pool.join()"
   ]
  },
  {
   "cell_type": "markdown",
   "id": "85d6edd0-f7ae-484a-9759-57160a9e6b4e",
   "metadata": {},
   "source": [
    "## Q6. Write a python program to create 4 processes, each process should print a different number using the multiprocessing module in python."
   ]
  },
  {
   "cell_type": "code",
   "execution_count": 3,
   "id": "f718aa9f-72c4-4f70-ac9d-c0f98316f625",
   "metadata": {},
   "outputs": [
    {
     "name": "stdout",
     "output_type": "stream",
     "text": [
      "Process stage : 444\n",
      "Process stage : 445\n",
      "Process stage : 446\n",
      "All printing of different number are finished.\n"
     ]
    }
   ],
   "source": [
    "def DifferentNumber(number):\n",
    "    print(f\"Process stage : {number}\")\n",
    "        \n",
    "    \n",
    "if __name__ == '__main__':\n",
    "    processes = []\n",
    "\n",
    "    for i in range(444,447):\n",
    "\n",
    "        output= multiprocessing.Process(target=DifferentNumber, args=(i,))\n",
    "        processes.append(output)\n",
    "\n",
    "        output.start()\n",
    "\n",
    "    for t in processes:\n",
    "        output.join()\n",
    "\n",
    "    print(\"All printing of different number are finished.\")"
   ]
  },
  {
   "cell_type": "code",
   "execution_count": null,
   "id": "423fb630-4c1a-4eaa-9c63-2894783fd854",
   "metadata": {},
   "outputs": [],
   "source": []
  }
 ],
 "metadata": {
  "kernelspec": {
   "display_name": "Python 3 (ipykernel)",
   "language": "python",
   "name": "python3"
  },
  "language_info": {
   "codemirror_mode": {
    "name": "ipython",
    "version": 3
   },
   "file_extension": ".py",
   "mimetype": "text/x-python",
   "name": "python",
   "nbconvert_exporter": "python",
   "pygments_lexer": "ipython3",
   "version": "3.10.8"
  }
 },
 "nbformat": 4,
 "nbformat_minor": 5
}
