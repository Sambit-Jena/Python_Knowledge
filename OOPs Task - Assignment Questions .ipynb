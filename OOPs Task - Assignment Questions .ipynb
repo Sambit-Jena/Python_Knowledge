{
 "cells": [
  {
   "cell_type": "markdown",
   "id": "74d3666b-e31f-44a7-af91-1cb8de7bbdba",
   "metadata": {},
   "source": [
    "### Q1. Create a vehicle class with an init method having instance variables as name_of_vehicle, max_speed and average_of_vehicle."
   ]
  },
  {
   "cell_type": "code",
   "execution_count": 1,
   "id": "50187c2c-cd32-4361-8615-7423e71a324b",
   "metadata": {},
   "outputs": [],
   "source": [
    "class Vehicle:\n",
    "    def __init__(self, name_of_vehicle, max_speed, average_of_vehicle):\n",
    "        self.name_of_vehicle = name_of_vehicle\n",
    "        self.max_speed = max_speed\n",
    "        self.average_of_vehicle = average_of_vehicle"
   ]
  },
  {
   "cell_type": "code",
   "execution_count": 2,
   "id": "83f87b9d-653a-4c79-920d-d24bd112fb1a",
   "metadata": {},
   "outputs": [],
   "source": [
    "my_vehicle=Vehicle(\"Bicycle\",\"200km\\h\",180)"
   ]
  },
  {
   "cell_type": "code",
   "execution_count": 3,
   "id": "37eaef36-fe6a-4af9-b25e-8a21134cc761",
   "metadata": {},
   "outputs": [
    {
     "data": {
      "text/plain": [
       "'Bicycle'"
      ]
     },
     "execution_count": 3,
     "metadata": {},
     "output_type": "execute_result"
    }
   ],
   "source": [
    "my_vehicle.name_of_vehicle"
   ]
  },
  {
   "cell_type": "code",
   "execution_count": 4,
   "id": "ca8c4eff-9412-44ea-84fa-6d0ec3ac7164",
   "metadata": {},
   "outputs": [
    {
     "data": {
      "text/plain": [
       "'200km\\\\h'"
      ]
     },
     "execution_count": 4,
     "metadata": {},
     "output_type": "execute_result"
    }
   ],
   "source": [
    "my_vehicle.max_speed"
   ]
  },
  {
   "cell_type": "code",
   "execution_count": 5,
   "id": "b82367f3-9eed-4951-9605-5e3995c30e02",
   "metadata": {},
   "outputs": [
    {
     "data": {
      "text/plain": [
       "180"
      ]
     },
     "execution_count": 5,
     "metadata": {},
     "output_type": "execute_result"
    }
   ],
   "source": [
    "my_vehicle.average_of_vehicle"
   ]
  },
  {
   "cell_type": "markdown",
   "id": "28e22797-a99a-4202-ad47-b3a8b93f5bad",
   "metadata": {},
   "source": [
    "### Q2. Create a child class car from the vehicle class created in Que 1, which will inherit the vehicle class. Create a method named seating_capacity which takes capacity as an argument and returns the name of the vehicle and its seating capacity."
   ]
  },
  {
   "cell_type": "code",
   "execution_count": 6,
   "id": "c07fd8d7-2b40-49b7-bf5a-6643e14bc611",
   "metadata": {},
   "outputs": [],
   "source": [
    "class Car(Vehicle):\n",
    "    def seating_capacity(self, capacity):\n",
    "        self.capacity=capacity\n",
    "        return  self.name_of_vehicle,self.capacity"
   ]
  },
  {
   "cell_type": "code",
   "execution_count": 7,
   "id": "1b81a915-827c-4773-a74c-859a3426739f",
   "metadata": {},
   "outputs": [],
   "source": [
    "my_vehicle=Car(\"Bicycle\",\"200km\\h\",180)"
   ]
  },
  {
   "cell_type": "code",
   "execution_count": 8,
   "id": "dae6941f-5fb3-4940-b28e-4897556de3e3",
   "metadata": {},
   "outputs": [
    {
     "data": {
      "text/plain": [
       "('Bicycle', 3)"
      ]
     },
     "execution_count": 8,
     "metadata": {},
     "output_type": "execute_result"
    }
   ],
   "source": [
    "my_vehicle.seating_capacity(3)"
   ]
  },
  {
   "cell_type": "markdown",
   "id": "63f41d72-09dd-4201-ba04-1696f802fc05",
   "metadata": {},
   "source": [
    "### Q3. What is multiple inheritance? Write a python code to demonstrate multiple inheritance."
   ]
  },
  {
   "cell_type": "markdown",
   "id": "477fae99-592c-402e-84fc-684c1fd58948",
   "metadata": {},
   "source": [
    "Multiple inheritance is a feature in object-oriented programming languages that allows a class to inherit from more than one parent class. In Python, a class can inherit attributes and methods from multiple parent classes."
   ]
  },
  {
   "cell_type": "code",
   "execution_count": 9,
   "id": "e297e0b5-1c6d-42e8-835f-31fee98cacb9",
   "metadata": {},
   "outputs": [],
   "source": [
    "# Example\n",
    "\n",
    "class Tea():\n",
    "    def Tea_name(self):\n",
    "        print(\"This is TATA Tea\")\n",
    "\n",
    "class Salt():\n",
    "    def Salt_name(self):\n",
    "        print(\"This is TATA Salt\")\n",
    "        \n",
    "class parent_company(Tea,Salt):\n",
    "    def company_name(self):\n",
    "        print(\"The product of TATA company\")"
   ]
  },
  {
   "cell_type": "code",
   "execution_count": 10,
   "id": "02a4c106-08b8-4d4a-957d-ec0763178ff0",
   "metadata": {},
   "outputs": [],
   "source": [
    "name_of_product= parent_company()"
   ]
  },
  {
   "cell_type": "code",
   "execution_count": 11,
   "id": "9395bfce-3c2b-4d98-a5a7-e92c983b4c77",
   "metadata": {},
   "outputs": [
    {
     "name": "stdout",
     "output_type": "stream",
     "text": [
      "This is TATA Salt\n"
     ]
    }
   ],
   "source": [
    "name_of_product.Salt_name()"
   ]
  },
  {
   "cell_type": "code",
   "execution_count": 12,
   "id": "97c334a4-b5f2-45b1-adb0-ec793061cf75",
   "metadata": {},
   "outputs": [
    {
     "name": "stdout",
     "output_type": "stream",
     "text": [
      "The product of TATA company\n"
     ]
    }
   ],
   "source": [
    "name_of_product.company_name()"
   ]
  },
  {
   "cell_type": "code",
   "execution_count": 13,
   "id": "85abbc42-7fdd-44b8-b00b-0d4260934bae",
   "metadata": {},
   "outputs": [
    {
     "name": "stdout",
     "output_type": "stream",
     "text": [
      "This is TATA Tea\n"
     ]
    }
   ],
   "source": [
    "name_of_product.Tea_name()"
   ]
  },
  {
   "cell_type": "markdown",
   "id": "aa1ec664-45f9-4697-ab57-ee1485b112a6",
   "metadata": {},
   "source": [
    "### Q4. What are getter and setter in python? Create a class and create a getter and a setter method in this class."
   ]
  },
  {
   "cell_type": "markdown",
   "id": "1c93a7fa-bdee-4cc4-8d4c-1fb0d4a5d050",
   "metadata": {},
   "source": [
    "In Python, getter and setter methods are used to control the access and modification of class attributes when the attributes is private. They provide an interface to get (getter) and set (setter) the values of private or protected attributes."
   ]
  },
  {
   "cell_type": "code",
   "execution_count": 14,
   "id": "49d09cc3-0315-4072-b32e-125fd298c52d",
   "metadata": {},
   "outputs": [],
   "source": [
    "class student:\n",
    "    def __init__(self, name, age):\n",
    "        self.__name = name  \n",
    "        self.__age = age  \n",
    "\n",
    "    def get_name(self):\n",
    "        return self.__name\n",
    "\n",
    "    def set_name(self, name):\n",
    "        self.__name = name\n",
    "\n",
    "    def get_age(self):\n",
    "        return self.__age\n",
    "\n",
    "    def set_age(self, age):\n",
    "        if age >=0:\n",
    "            self.__age = age\n",
    "        else:\n",
    "            print(\"Invalid Age\")"
   ]
  },
  {
   "cell_type": "code",
   "execution_count": 15,
   "id": "bf79b2e3-5b90-4812-96ab-1c089a6b8dc0",
   "metadata": {},
   "outputs": [],
   "source": [
    "student_information=student(\"Sambit\",23)"
   ]
  },
  {
   "cell_type": "code",
   "execution_count": 16,
   "id": "a0f5084c-67c6-420b-bd13-ffc3a43ce142",
   "metadata": {},
   "outputs": [
    {
     "data": {
      "text/plain": [
       "'Sambit'"
      ]
     },
     "execution_count": 16,
     "metadata": {},
     "output_type": "execute_result"
    }
   ],
   "source": [
    "student_information._student__name"
   ]
  },
  {
   "cell_type": "code",
   "execution_count": 17,
   "id": "71ff0b0c-ecf6-49ba-9f0a-9c0a47a366f7",
   "metadata": {},
   "outputs": [
    {
     "data": {
      "text/plain": [
       "23"
      ]
     },
     "execution_count": 17,
     "metadata": {},
     "output_type": "execute_result"
    }
   ],
   "source": [
    "student_information._student__age"
   ]
  },
  {
   "cell_type": "code",
   "execution_count": 21,
   "id": "eb0088a1-79e6-4e5d-ad35-f18f50b0f89f",
   "metadata": {},
   "outputs": [],
   "source": [
    "student_information.set_name(\"Aradhya\")\n",
    "student_information.set_age(24)"
   ]
  },
  {
   "cell_type": "code",
   "execution_count": 22,
   "id": "e8957b0e-e5c0-4199-a858-10988995cf53",
   "metadata": {},
   "outputs": [
    {
     "data": {
      "text/plain": [
       "'Aradhya'"
      ]
     },
     "execution_count": 22,
     "metadata": {},
     "output_type": "execute_result"
    }
   ],
   "source": [
    "student_information.get_name()"
   ]
  },
  {
   "cell_type": "code",
   "execution_count": 23,
   "id": "02425012-91c5-4a3f-ac98-61c9a27967f1",
   "metadata": {},
   "outputs": [
    {
     "data": {
      "text/plain": [
       "24"
      ]
     },
     "execution_count": 23,
     "metadata": {},
     "output_type": "execute_result"
    }
   ],
   "source": [
    "student_information.get_age()"
   ]
  },
  {
   "cell_type": "markdown",
   "id": "12859728-e74d-4f41-92bd-a8ba3e595a38",
   "metadata": {},
   "source": [
    "### Q5.What is method overriding in python? Write a python code to demonstrate method overriding."
   ]
  },
  {
   "cell_type": "markdown",
   "id": "b1b60a9b-e701-4009-a261-0994cbfc3372",
   "metadata": {},
   "source": [
    "The ability to propose an alternative implementation for a method that is already defined in a parent class by a subclass is known as method overriding in object-oriented programming."
   ]
  },
  {
   "cell_type": "code",
   "execution_count": 24,
   "id": "b8f27c93-45a0-4c4f-a998-d616455fb8e2",
   "metadata": {},
   "outputs": [],
   "source": [
    "class Bollywood:\n",
    "    def Hindi(self):\n",
    "        return \"This is hindi movie.\"\n",
    "\n",
    "\n",
    "class Movie(Bollywood):\n",
    "    def Hindi(self):\n",
    "        return \"Bahubali: A hindi Bollywood movie\""
   ]
  },
  {
   "cell_type": "code",
   "execution_count": 25,
   "id": "5feb9f93-5469-447b-8f5a-395dc339d9bc",
   "metadata": {},
   "outputs": [],
   "source": [
    "bollywood=Bollywood()\n",
    "movie=Movie()"
   ]
  },
  {
   "cell_type": "code",
   "execution_count": 26,
   "id": "fe92c372-1460-49df-abe1-bef9ad6b5d10",
   "metadata": {},
   "outputs": [
    {
     "data": {
      "text/plain": [
       "'This is hindi movie.'"
      ]
     },
     "execution_count": 26,
     "metadata": {},
     "output_type": "execute_result"
    }
   ],
   "source": [
    "bollywood.Hindi()"
   ]
  },
  {
   "cell_type": "code",
   "execution_count": 27,
   "id": "185e1ba3-3df0-43f6-8f2c-845ca823bbe1",
   "metadata": {},
   "outputs": [
    {
     "data": {
      "text/plain": [
       "'Bahubali: A hindi Bollywood movie'"
      ]
     },
     "execution_count": 27,
     "metadata": {},
     "output_type": "execute_result"
    }
   ],
   "source": [
    "movie.Hindi()"
   ]
  }
 ],
 "metadata": {
  "kernelspec": {
   "display_name": "Python 3 (ipykernel)",
   "language": "python",
   "name": "python3"
  },
  "language_info": {
   "codemirror_mode": {
    "name": "ipython",
    "version": 3
   },
   "file_extension": ".py",
   "mimetype": "text/x-python",
   "name": "python",
   "nbconvert_exporter": "python",
   "pygments_lexer": "ipython3",
   "version": "3.10.8"
  }
 },
 "nbformat": 4,
 "nbformat_minor": 5
}
