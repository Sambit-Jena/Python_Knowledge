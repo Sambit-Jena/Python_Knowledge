{
 "cells": [
  {
   "cell_type": "markdown",
   "id": "899b81d3-1c82-41a8-a1ab-1f924e626ddc",
   "metadata": {},
   "source": [
    "## Q1. What is multithreading in python? hy is it used? Name the module used to handle threads in python"
   ]
  },
  {
   "cell_type": "markdown",
   "id": "bca6ac51-49ec-4d02-8c7a-d02a35f6a4e1",
   "metadata": {},
   "source": [
    "In Python, multithreading refers to the ability of a program to simultaneously execute multiple threads within a single process. A programme can take advantage of the underlying hardware and effectively use CPU resources by using many threads."
   ]
  },
  {
   "cell_type": "markdown",
   "id": "903a3a4a-8855-40da-855f-6dca768aad01",
   "metadata": {},
   "source": [
    "Python provides a built-in module called threading to handle threads.\n",
    "A high-level interface for creating and managing threads in Python is provided by this module. The threading module allows us to create thread objects, start and stop threads, and synchronize thread execution using locks, conditions, and other mechanisms. It provides a way to write concurrent programs that can handle multiple tasks simultaneously."
   ]
  },
  {
   "cell_type": "markdown",
   "id": "9ea5d774-9607-4888-9bfd-80f84ef7f256",
   "metadata": {},
   "source": [
    "## Q2. Why threading module used? Write the use of the following functions\n",
    "### 1- activeCount()\n",
    "### 2- currentThread()\n",
    "### 3- enumerate()"
   ]
  },
  {
   "cell_type": "markdown",
   "id": "dd35c696-dd72-4061-be69-1b5f8c881214",
   "metadata": {},
   "source": [
    "The threading module in Python is used to handle threads and provides a high-level interface for creating and managing threads. In order to work with threads efficiently, it offers a variety of functions and classes."
   ]
  },
  {
   "cell_type": "markdown",
   "id": "691b292d-c952-4aea-828f-48dae928be9e",
   "metadata": {},
   "source": [
    "1- activeCount():  This function returns the number of Thread objects currently alive.In the current program, it displays the number of active threads.It can be useful to monitor and keep track of the number of active threads at any given point."
   ]
  },
  {
   "cell_type": "markdown",
   "id": "7d1acf48-a0d0-4249-b65b-a841d7c2d786",
   "metadata": {},
   "source": [
    "2- currentThread(): This function returns the Thread object corresponding to the current thread.This method allows us to access the thread that is currently executing within the program.We can use this function to perform operations specific to the current thread, such as retrieving its name, identifying it, or modifying its behavior."
   ]
  },
  {
   "cell_type": "markdown",
   "id": "7bb4cca2-da99-4e5f-972f-a96168736c83",
   "metadata": {},
   "source": [
    "3- enumerate(): This function returns a list of all Thread objects currently alive.This function allows us to retrieve a list of all the active threads in a program. This function is useful for monitoring and managing multiple threads in a program, such as checking their status, terminating them."
   ]
  },
  {
   "cell_type": "markdown",
   "id": "db7c48d3-609b-4768-8613-05212db0f229",
   "metadata": {},
   "source": [
    "## 3. Explain the following functions\n",
    " 1. run()\n",
    " 2. start()\n",
    " 3. join()\n",
    " 4. isAlive()"
   ]
  },
  {
   "cell_type": "markdown",
   "id": "9c2c45f0-8b2d-4d00-891d-3163a53308da",
   "metadata": {},
   "source": [
    "#### run():"
   ]
  },
  {
   "cell_type": "markdown",
   "id": "2c50183e-6195-465f-a31e-22ac6ebb292b",
   "metadata": {},
   "source": [
    "This method is provided by the Thread class in the threading module. It represents the entry point for the thread's execution logic. When a Thread object is created, we may specify the appropriate thread behaviour by subclassing the Thread class and adding our own custom code to the run() method. "
   ]
  },
  {
   "cell_type": "markdown",
   "id": "05c83082-8255-45f4-9a59-80dc343c3b4c",
   "metadata": {},
   "source": [
    "#### start()"
   ]
  },
  {
   "cell_type": "markdown",
   "id": "dc0099cc-b38b-42a2-b0ec-82b0e2b96928",
   "metadata": {},
   "source": [
    "The start() method is used to start the execution of a thread. It causes the thread's run() method to be invoked in a separate thread of control."
   ]
  },
  {
   "cell_type": "markdown",
   "id": "3efb2af3-00b0-4c53-9ba1-17ce9f6d7d5d",
   "metadata": {},
   "source": [
    "#### join()"
   ]
  },
  {
   "cell_type": "markdown",
   "id": "6d5bbec7-59bd-4454-a3d7-890aa72703a1",
   "metadata": {},
   "source": [
    "Basically the join() method is used to wait for a thread to complete its execution. When we call join() on a thread object, the calling thread will be blocked until the target thread finishes. And for the timeout argument, the calling thread will wait for the specified duration for the target thread to finish."
   ]
  },
  {
   "cell_type": "markdown",
   "id": "3f9be06a-7b59-4690-940a-466aa7311bdc",
   "metadata": {},
   "source": [
    "#### isAlive()"
   ]
  },
  {
   "cell_type": "markdown",
   "id": "f81c6c13-07fb-406c-978c-7ab12e751a6d",
   "metadata": {},
   "source": [
    "The isAlive() method is used to check whether a thread is currently executing or not. It returns True if the thread is still alive and False otherwise."
   ]
  },
  {
   "cell_type": "code",
   "execution_count": 2,
   "id": "55a6fa99-df0d-4850-a466-0391dc163e4d",
   "metadata": {},
   "outputs": [
    {
     "name": "stdout",
     "output_type": "stream",
     "text": [
      "Thread has started\n",
      "Thread is alive: True\n",
      "Thread has finished\n",
      "Thread is alive: False\n"
     ]
    }
   ],
   "source": [
    "# Example\n",
    "\n",
    "import threading\n",
    "import time\n",
    "\n",
    "def MyCode():\n",
    "    print(\"Thread has started\")\n",
    "    time.sleep(2)\n",
    "    print(\"Thread has finished\")\n",
    "\n",
    "thread = threading.Thread(target=MyCode)\n",
    "\n",
    "thread.start() #thread to be started\n",
    "\n",
    "\n",
    "print(\"Thread is alive:\",thread.is_alive())  # Check if the thread is alive\n",
    "\n",
    "\n",
    "thread.join() #thread to be finished.\n",
    "\n",
    "\n",
    "print(\"Thread is alive:\", thread.is_alive()) # Check if the thread is alive after joining\n"
   ]
  },
  {
   "cell_type": "markdown",
   "id": "0ec859dd-4cbc-4535-a7d4-c892911c9ca8",
   "metadata": {},
   "source": [
    "## Q4. Write a python program to create two threads. Thread one must print the list of squares and thread two must print the list of cubes"
   ]
  },
  {
   "cell_type": "code",
   "execution_count": 3,
   "id": "f4365e8c-5370-42de-a3cc-67976ae02a58",
   "metadata": {},
   "outputs": [
    {
     "name": "stdout",
     "output_type": "stream",
     "text": [
      "100\n",
      "1\n",
      "9\n",
      "1000\n",
      "1\n",
      "27\n"
     ]
    }
   ],
   "source": [
    "import threading\n",
    "\n",
    "def squares(x):\n",
    "    square = x ** 2\n",
    "    print(square)\n",
    "\n",
    "def cubes(y):\n",
    "    cube = y ** 3\n",
    "    print(cube)\n",
    "\n",
    "threads = []\n",
    "for i in [10, 1, 3]:\n",
    "    t = threading.Thread(target=squares, args=(i,))\n",
    "    threads.append(t)\n",
    "    t.start()\n",
    "\n",
    "for i in [10, 1, 3]:\n",
    "    t = threading.Thread(target=cubes, args=(i,))\n",
    "    threads.append(t)\n",
    "    t.start()\n",
    "\n",
    "for t in threads:\n",
    "    t.join()\n"
   ]
  },
  {
   "cell_type": "markdown",
   "id": "7e775be3-a719-4ceb-98b7-61fa715b8447",
   "metadata": {},
   "source": [
    "## Q5. State advantages and disadvantages of multithreading."
   ]
  },
  {
   "cell_type": "markdown",
   "id": "52d8a8cb-cf5f-4521-b2e8-21d8c8cc2800",
   "metadata": {
    "tags": []
   },
   "source": [
    "#### Advantages of multithreading in Python:"
   ]
  },
  {
   "cell_type": "markdown",
   "id": "f0f63c2c-cbec-432c-a6f2-6de77735cc67",
   "metadata": {},
   "source": [
    "* Multithreading enables the execution of multiple tasks concurrently in a single program. This can improve the overall performance and responsiveness of an application.\n",
    "* In comparison to complete processes, Python threads are easy, less time consuming and use less memory and system resources. \n",
    "* It is possible to communicate between threads within the same process by sharing data through shared memory or by using thread-safe communication mechanisms such as queues, pipes, or shared variables.\n"
   ]
  },
  {
   "cell_type": "markdown",
   "id": "8438881c-49f7-408f-8242-9ce3d947cf13",
   "metadata": {},
   "source": [
    "#### Disadvantages of multithreading in Python:"
   ]
  },
  {
   "cell_type": "markdown",
   "id": "ae925b7d-3639-4632-bb5f-dce0a7fb6ec1",
   "metadata": {},
   "source": [
    "* Python has allowed only one thread to execute Python bytecode at a time. This means that even though we may have multiple threads, only one thread can execute Python code at a given time.\n",
    "* In comparison to single-threaded programs, multi-threaded programs can be more complex to write and debug.\n",
    "* The overhead of managing multiple threads has an impact on memory usage, as well as context switching."
   ]
  },
  {
   "cell_type": "markdown",
   "id": "9f4bbcbb-b631-43f4-b3bc-3bf569ae9186",
   "metadata": {},
   "source": [
    "## Q6. Explain deadlocks and race conditions."
   ]
  },
  {
   "cell_type": "markdown",
   "id": "58240072-86ac-48bd-b9dd-7ae6435447b6",
   "metadata": {},
   "source": [
    "#### Deadlocks:"
   ]
  },
  {
   "cell_type": "markdown",
   "id": "9598e210-ac48-45bf-be03-2e3b59e129c1",
   "metadata": {},
   "source": [
    "Deadlocks occur when two or more threads remain blocked indefinitely, awaiting each other's release.  It typically happens when each thread holds a resource that another thread needs and vice versa."
   ]
  },
  {
   "cell_type": "code",
   "execution_count": 4,
   "id": "3675341b-d1fc-4ef4-8472-f1327c799bbf",
   "metadata": {},
   "outputs": [
    {
     "name": "stdout",
     "output_type": "stream",
     "text": [
      "Thread 1 contains resource 1.\n",
      "Thread 1 contains resource 2.\n",
      "Thread 2 contains resource 2.\n",
      "Thread 2 contains resource 1.\n"
     ]
    }
   ],
   "source": [
    "#Example\n",
    "\n",
    "import threading\n",
    "\n",
    "resource1 = threading.Lock()\n",
    "resource2 = threading.Lock()\n",
    "\n",
    "def thrd1():\n",
    "    with resource1:\n",
    "        print(\"Thread 1 contains resource 1.\")\n",
    "        with resource2:\n",
    "            print(\"Thread 1 contains resource 2.\")\n",
    "\n",
    "def thrd2():\n",
    "    with resource2:\n",
    "        print(\"Thread 2 contains resource 2.\")\n",
    "        with resource1:\n",
    "            print(\"Thread 2 contains resource 1.\")\n",
    "\n",
    "\n",
    "thread1 = threading.Thread(target=thrd1)\n",
    "thread2 = threading.Thread(target=thrd2)\n",
    "\n",
    "thread1.start()\n",
    "thread2.start()\n",
    "\n",
    "thread1.join()\n",
    "thread2.join()\n"
   ]
  },
  {
   "cell_type": "markdown",
   "id": "853b3844-6c6a-4ef9-aa5b-5644d4cea4ab",
   "metadata": {},
   "source": [
    "#### Race Conditions:"
   ]
  },
  {
   "cell_type": "markdown",
   "id": "c8939dd2-fd9a-458f-87b1-1236d5f56ab1",
   "metadata": {},
   "source": [
    "When many threads access shared data concurrently, it creates a race condition, which leads to unpredictable and bad behaviour. It happens when the outcome of the program depends on the relative timing and interleaving of thread execution."
   ]
  },
  {
   "cell_type": "code",
   "execution_count": 7,
   "id": "e99326a8-b61e-406e-a61d-1ae6d3f001ed",
   "metadata": {},
   "outputs": [
    {
     "name": "stdout",
     "output_type": "stream",
     "text": [
      "Count: 556\n"
     ]
    }
   ],
   "source": [
    "# Example\n",
    "\n",
    "import threading\n",
    "\n",
    "count = 556\n",
    "def addition():\n",
    "    global count\n",
    "    for i in range(100):\n",
    "        count += 1\n",
    "\n",
    "def substraction():\n",
    "    global count\n",
    "    for i in range(100):\n",
    "        count -= 1\n",
    "\n",
    "thread1 = threading.Thread(target=addition)\n",
    "thread2 = threading.Thread(target=substraction)\n",
    "thread1.start()\n",
    "thread2.start()\n",
    "\n",
    "thread1.join()\n",
    "thread2.join()\n",
    "\n",
    "print(\"Count:\", count)\n"
   ]
  }
 ],
 "metadata": {
  "kernelspec": {
   "display_name": "Python 3 (ipykernel)",
   "language": "python",
   "name": "python3"
  },
  "language_info": {
   "codemirror_mode": {
    "name": "ipython",
    "version": 3
   },
   "file_extension": ".py",
   "mimetype": "text/x-python",
   "name": "python",
   "nbconvert_exporter": "python",
   "pygments_lexer": "ipython3",
   "version": "3.10.8"
  }
 },
 "nbformat": 4,
 "nbformat_minor": 5
}
