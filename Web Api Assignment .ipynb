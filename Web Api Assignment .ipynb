{
 "cells": [
  {
   "cell_type": "markdown",
   "id": "4de48f2d-8ba3-4759-b7f7-50747d06b24e",
   "metadata": {},
   "source": [
    "## Q1. What is an API? Give an example, where an API is used in real life."
   ]
  },
  {
   "cell_type": "markdown",
   "id": "2a0b1695-b389-4536-ae8c-2c16f2170514",
   "metadata": {},
   "source": [
    "An API, or Application Programming Interface, is a set of rules and protocols that allows different software applications to communicate and interact with each other. It defines the methods and data formats that applications can use to request and exchange information."
   ]
  },
  {
   "cell_type": "markdown",
   "id": "f266736c-9fab-44fd-af2b-89ef42cabf12",
   "metadata": {},
   "source": [
    "Let's take an example of API usage in real life is the integration of Google Maps API in various applications. Google Maps API provides developers with access to the functionality and data of Google Maps, allowing us to embed maps, geocoding, and routing services into their own applications.Many popular apps and websites use this API to display maps, provide directions, or offer location-based services to their users. For instance, we might have encountered Google Maps integration in ride-sharing apps, food delivery apps, or travel planning websites etc. \n",
    "\n",
    "Not only in google map we can many more example like twitter, streaming platform like Netflix, music platform like spotify, also it uses in the software upgrades."
   ]
  },
  {
   "cell_type": "markdown",
   "id": "b9cc7a03-1733-406f-8b6c-8f3ea86aee80",
   "metadata": {},
   "source": [
    "## Q2. Give advantages and disadvantages of using API."
   ]
  },
  {
   "cell_type": "markdown",
   "id": "95086a1a-e13a-40e2-ad50-166c7cdf9d01",
   "metadata": {},
   "source": [
    "Lets discuss some of the Advantages and DisAdvantages of API bellow.\n",
    "\n",
    "#### Advantages:\n",
    "* APIs promote modular programming by allowing developers to separate different components of their software. \n",
    "* APIs can also be reused in multiple projects, saving development time and effort.\n",
    "*  APIs provide pre-built functionality, allowing developers to leverage existing resources rather than building everything from scratch. This speeds up development processes and reduces time-to-market for new applications.\n",
    "* APIs allow efficient data interchange and communication across various software systems.\n",
    "* A platform or service's developer ecosystem can be facilitated using APIs. As specially now a days companies encourage third-party developers to create applications or services that augment their main offering by offering an API, which leads to increasing the platform's capabilities and user base."
   ]
  },
  {
   "cell_type": "markdown",
   "id": "0d1f50aa-e455-4b95-8d2f-60e9dea354ee",
   "metadata": {},
   "source": [
    "#### Disadvantages:\n",
    "* Applications become reliant on the availability and dependability of external APIs when they use those APIs extensively. The operation of the reliant applications may be hampered if the API encounters outages or functional changes.\n",
    "*  Using an API means relying on the API provider's updates, changes, and maintenance. If the provider makes significant modifications or decides to deprecate or retire the API, it can impact the functionality of applications built on top of it.\n",
    "* Developers need to understand the documentation and specifications of an API to effectively and properly. Learning a new API and its interface can be time-consuming and may require additional resources and training otherwise it might create the problem later.\n",
    "* APIs can introduce security risks if not implemented and secured properly. If an API lacks adequate authentication or authorization mechanisms, it can be destroyable to unauthorized access or misuse of sensitive data."
   ]
  },
  {
   "cell_type": "markdown",
   "id": "1facee48-9948-4097-a4f6-e5ae0125af40",
   "metadata": {},
   "source": [
    "## Q3. What is a Web API? Differentiate between API and Web API."
   ]
  },
  {
   "cell_type": "markdown",
   "id": "6b7bc19a-af30-4228-a45c-b31b83e64569",
   "metadata": {},
   "source": [
    "A Web API, often referred to as a Web Service API, is a particular kind of API created to make it easier for various software applications to connect and communicate with one another over the internet using common web protocols. The protocol are  REST (Representational State Transfer) or SOAP (Simple Object Access Protocol)  which are its foundation"
   ]
  },
  {
   "cell_type": "markdown",
   "id": "175ca358-b916-4588-9d94-e2f3d606c2a6",
   "metadata": {},
   "source": [
    "#### Difference between API and Web API:\n",
    "* An API is a broader term that refers to a set of rules and protocols that define how different software components or systems can interact with each other. Where as a Web API specifically refers to an API that is designed to be used over the web.\n",
    "* APIs can be used for various purposes, including accessing functionality, exchanging data, or integrating different services or platforms. In the mean time web APIs use standard web protocols like HTTP (Hypertext Transfer Protocol) for communication.\n",
    "* APIs can be implemented in different forms, such as libraries, frameworks, protocols, or web services. But in case of web APIs, these are typically based on REST or SOAP architectures, that allowing clients to interact with the API by making HTTP requests (GET, POST, PUT, DELETE) to specific URLs and receiving responses in a structured format like JSON or XML."
   ]
  },
  {
   "cell_type": "markdown",
   "id": "052d234f-2098-4764-87ff-6a6ca7459ce0",
   "metadata": {},
   "source": [
    "## Q4. Explain REST and SOAP Architecture. Mention shortcomings of SOAP."
   ]
  },
  {
   "cell_type": "markdown",
   "id": "9712a13c-2ff7-4b33-8f96-d426808c55a9",
   "metadata": {},
   "source": [
    "REST and SOAP are two different architectural styles used for designing Web APIs, which know as Representational State Transfer and Simple Object Access Protocol.\n",
    "#### REST Architecture:\n",
    "* REST is an architectural style that focuses on simplicity, scalability, and statelessness.\n",
    "* It uses standard HTTP methods like GET, POST, PUT and DELETE to perform operations on resources identified by URLs.\n",
    "* REST APIs follow the principles of a client-server model, where the server exposes resources, and the client interacts with those resources using HTTP requests.\n",
    "* REST APIs specifically use JSON or XML for data representation.\n",
    "* REST protocol promotes loose coupling between the client and the server, allowing for scalability and easy integration with different platforms and technologies.\n",
    "\n",
    "#### SOAP Architecture:\n",
    "* SOAP is a protocol for exchanging structured information in web services.\n",
    "* SOAP protocol is based on XML and relies on the XML format for message formatting.\n",
    "* SOAP APIs use a contract-based approach, where the API functionality is described using a Web Services Description Language (WSDL) file.\n",
    "* SOAP protocol messages are sent over different protocols like HTTP, SMTP, or TCP, and the data is usually encoded using XML.\n",
    "* And it also provides support for advanced features like security, transaction management, and reliable messaging."
   ]
  },
  {
   "cell_type": "markdown",
   "id": "cc65db86-a14b-4e53-b5b6-090ebed877c0",
   "metadata": {},
   "source": [
    "#### Shortcomings of SOAP:\n",
    "* Compared to REST, SOAP can be more difficult to implement and utilise. Larger message sizes and more processing overhead may result from its XML-based message format and detailed specifications.\n",
    "* SOAP APIs may face compatibility issues when interacting with systems or platforms that do not support SOAP or have limited SOAP support. This can limit interoperability with certain technologies.\n",
    "* SOAP messages tend to be larger in size due to XML payload and the additional SOAP headers. This can impact performance, especially in scenarios with limited bandwidth or high latency.\n",
    "* SOAP APIs often result in tight coupling between the client and server due to the contract-based approach. \n",
    "* SOAP messages in XML can be challenging to read and understand for humans, making troubleshooting and debugging more difficult."
   ]
  },
  {
   "cell_type": "markdown",
   "id": "2e99d22c-838f-4782-83e2-4640f9bf36f4",
   "metadata": {},
   "source": [
    "## Q5. Differentiate between REST and SOAP."
   ]
  },
  {
   "cell_type": "markdown",
   "id": "e2d79a77-dd5c-444a-ae9c-6096fae8ebe4",
   "metadata": {},
   "source": [
    "#### Difference between REST and SOAP:\n",
    "* At first REST know as Representational State Transfer and SOAP is known as Simple Object Access Protocol.\n",
    "* REST is an architectural style that emphasizes simplicity, scalability, and statelessness. Where as SOAP is a protocol for exchanging structured information in web services.\n",
    "* REST APIs commonly use JSON (JavaScript Object Notation) or XML (eXtensible Markup Language) for data representation. But SOAP messages are exclusively formatted in XML.\n",
    "* REST APIs follow a stateless client-server communication model. Each request from the client to the server contains all the necessary information, and the server does not store any client-specific data between requests. In the other hand SOAP supports a more stateful communication model. It also provides built-in mechanisms for handling transaction management, security, and reliable messaging.\n",
    "* REST APIs are highly flexible and can be designed to fit the specific needs of an application or service. And SOAP APIs are more rigid in terms of their contract-based approach. The API functionality is defined using a Web Services Description Language file.\n",
    "* REST APIs tend to have less overhead since they primarily use simple HTTP methods and rely on lightweight data formats like JSON. Where as SOAP messages are typically larger due to XML payload and the inclusion of SOAP-specific headers. This can lead to increased processing overhead and slower performance, especially in resource-constrained environments."
   ]
  }
 ],
 "metadata": {
  "kernelspec": {
   "display_name": "Python 3 (ipykernel)",
   "language": "python",
   "name": "python3"
  },
  "language_info": {
   "codemirror_mode": {
    "name": "ipython",
    "version": 3
   },
   "file_extension": ".py",
   "mimetype": "text/x-python",
   "name": "python",
   "nbconvert_exporter": "python",
   "pygments_lexer": "ipython3",
   "version": "3.10.8"
  }
 },
 "nbformat": 4,
 "nbformat_minor": 5
}
