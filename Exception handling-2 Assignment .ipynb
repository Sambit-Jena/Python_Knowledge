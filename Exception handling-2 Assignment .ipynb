{
 "cells": [
  {
   "cell_type": "markdown",
   "id": "68e8da49-a460-476f-98e4-09667280f18d",
   "metadata": {},
   "source": [
    "## Q1. Explain why we have to use the Exception class while creating a Custom Exception."
   ]
  },
  {
   "cell_type": "markdown",
   "id": "e8644707-c1a7-4cda-9580-9bc94b002fa8",
   "metadata": {},
   "source": [
    "The Exception class serves as the base class for all exceptions in Python. When creating a custom exception, it is essential to inherit from the Exception class to ensure that the custom exception inherits the behavior and characteristics of a standard exception."
   ]
  },
  {
   "cell_type": "markdown",
   "id": "28787d5d-1759-4239-92bb-53c88dafee19",
   "metadata": {},
   "source": [
    "We utilise the Exception class as the basic class for user-defined exceptions for the following reasons:"
   ]
  },
  {
   "cell_type": "raw",
   "id": "745f2235-bcf9-4ca0-bfb2-d2813295bdd6",
   "metadata": {},
   "source": [
    "* Custom exceptions inherit from the Exception class to ensure that they follow the standard exception hierarchy and behave the same way as other built-in exceptions.\n",
    "\n",
    "* A number of methods and attributes in the Exception class can be used for exception handling, including \"__str__\" to store an exception string, args to store arguments, and raise to explicitly raise the exception.\n",
    "\n",
    "* The custom exception can be caught using a more general exception handler like except Exception or a handler that is more focused on the custom exception itself because it derives from the Exception class.\n",
    "\n",
    "* It is common for Python programs to use the Exception class as the base class for custom exceptions."
   ]
  },
  {
   "cell_type": "markdown",
   "id": "37163e74-a8e1-4861-968a-93ca0c70a007",
   "metadata": {},
   "source": [
    "## Q2. Write a python program to print Python Exception Hierarchy."
   ]
  },
  {
   "cell_type": "code",
   "execution_count": 5,
   "id": "e2be14a5-54b3-443e-97a4-7f60f67eb466",
   "metadata": {},
   "outputs": [
    {
     "name": "stdout",
     "output_type": "stream",
     "text": [
      "BaseException\n",
      "   Exception\n",
      "      TypeError\n",
      "         FloatOperation\n",
      "         MultipartConversionError\n",
      "      StopAsyncIteration\n",
      "      StopIteration\n",
      "      ImportError\n",
      "         ModuleNotFoundError\n",
      "         ZipImportError\n",
      "      OSError\n",
      "         ConnectionError\n",
      "            BrokenPipeError\n",
      "            ConnectionAbortedError\n",
      "            ConnectionRefusedError\n",
      "            ConnectionResetError\n",
      "               RemoteDisconnected\n",
      "         BlockingIOError\n",
      "         ChildProcessError\n",
      "         FileExistsError\n",
      "         FileNotFoundError\n",
      "         IsADirectoryError\n",
      "         NotADirectoryError\n",
      "         InterruptedError\n",
      "            InterruptedSystemCall\n",
      "         PermissionError\n",
      "         ProcessLookupError\n",
      "         TimeoutError\n",
      "         UnsupportedOperation\n",
      "         itimer_error\n",
      "         herror\n",
      "         gaierror\n",
      "         SSLError\n",
      "            SSLCertVerificationError\n",
      "            SSLZeroReturnError\n",
      "            SSLWantWriteError\n",
      "            SSLWantReadError\n",
      "            SSLSyscallError\n",
      "            SSLEOFError\n",
      "         Error\n",
      "            SameFileError\n",
      "         SpecialFileError\n",
      "         ExecError\n",
      "         ReadError\n",
      "         URLError\n",
      "            HTTPError\n",
      "            ContentTooShortError\n",
      "         BadGzipFile\n",
      "      EOFError\n",
      "         IncompleteReadError\n",
      "      RuntimeError\n",
      "         RecursionError\n",
      "         NotImplementedError\n",
      "            ZMQVersionError\n",
      "            StdinNotImplementedError\n",
      "         _DeadlockError\n",
      "         BrokenBarrierError\n",
      "         BrokenExecutor\n",
      "            BrokenThreadPool\n",
      "         SendfileNotAvailableError\n",
      "         ExtractionError\n",
      "         VariableError\n",
      "      NameError\n",
      "         UnboundLocalError\n",
      "      AttributeError\n",
      "         FrozenInstanceError\n",
      "      SyntaxError\n",
      "         IndentationError\n",
      "            TabError\n",
      "      LookupError\n",
      "         IndexError\n",
      "         KeyError\n",
      "            NoSuchKernel\n",
      "            UnknownBackend\n",
      "         CodecRegistryError\n",
      "      ValueError\n",
      "         UnicodeError\n",
      "            UnicodeEncodeError\n",
      "            UnicodeDecodeError\n",
      "            UnicodeTranslateError\n",
      "         UnsupportedOperation\n",
      "         JSONDecodeError\n",
      "         SSLCertVerificationError\n",
      "         Error\n",
      "         UnsupportedDigestmodError\n",
      "         IllegalMonthError\n",
      "         IllegalWeekdayError\n",
      "         ParserError\n",
      "         ClassNotFound\n",
      "         ClipboardEmpty\n",
      "         MessageDefect\n",
      "            NoBoundaryInMultipartDefect\n",
      "            StartBoundaryNotFoundDefect\n",
      "            CloseBoundaryNotFoundDefect\n",
      "            FirstHeaderLineIsContinuationDefect\n",
      "            MisplacedEnvelopeHeaderDefect\n",
      "            MissingHeaderBodySeparatorDefect\n",
      "            MultipartInvariantViolationDefect\n",
      "            InvalidMultipartContentTransferEncodingDefect\n",
      "            UndecodableBytesDefect\n",
      "            InvalidBase64PaddingDefect\n",
      "            InvalidBase64CharactersDefect\n",
      "            InvalidBase64LengthDefect\n",
      "            HeaderDefect\n",
      "               InvalidHeaderDefect\n",
      "               HeaderMissingRequiredValue\n",
      "               NonPrintableDefect\n",
      "               ObsoleteHeaderDefect\n",
      "               NonASCIILocalPartDefect\n",
      "               InvalidDateDefect\n",
      "         MacroToEdit\n",
      "         InvalidFileException\n",
      "         UnequalIterablesError\n",
      "         InvalidVersion\n",
      "         _InvalidELFFileHeader\n",
      "         InvalidWheelFilename\n",
      "         InvalidSdistFilename\n",
      "         InvalidSpecifier\n",
      "         InvalidMarker\n",
      "         UndefinedComparison\n",
      "         UndefinedEnvironmentName\n",
      "         InvalidRequirement\n",
      "            RequirementParseError\n",
      "         InvalidVersion\n",
      "      AssertionError\n",
      "      ArithmeticError\n",
      "         FloatingPointError\n",
      "         OverflowError\n",
      "         ZeroDivisionError\n",
      "            DivisionByZero\n",
      "            DivisionUndefined\n",
      "         DecimalException\n",
      "            Clamped\n",
      "            Rounded\n",
      "               Underflow\n",
      "               Overflow\n",
      "            Inexact\n",
      "               Underflow\n",
      "               Overflow\n",
      "            Subnormal\n",
      "               Underflow\n",
      "            DivisionByZero\n",
      "            FloatOperation\n",
      "            InvalidOperation\n",
      "               ConversionSyntax\n",
      "               DivisionImpossible\n",
      "               DivisionUndefined\n",
      "               InvalidContext\n",
      "      SystemError\n",
      "         CodecRegistryError\n",
      "      ReferenceError\n",
      "      MemoryError\n",
      "      BufferError\n",
      "      Warning\n",
      "         UserWarning\n",
      "            GetPassWarning\n",
      "            FormatterWarning\n",
      "         EncodingWarning\n",
      "         DeprecationWarning\n",
      "            ProvisionalWarning\n",
      "         PendingDeprecationWarning\n",
      "         SyntaxWarning\n",
      "         RuntimeWarning\n",
      "            ProactorSelectorThreadWarning\n",
      "            UnknownTimezoneWarning\n",
      "            PEP440Warning\n",
      "         FutureWarning\n",
      "            ProvisionalCompleterWarning\n",
      "         ImportWarning\n",
      "         UnicodeWarning\n",
      "         BytesWarning\n",
      "         ResourceWarning\n",
      "         DeprecatedTzFormatWarning\n",
      "         PkgResourcesDeprecationWarning\n",
      "      _OptionError\n",
      "      _Error\n",
      "      error\n",
      "      Verbose\n",
      "      Error\n",
      "      SubprocessError\n",
      "         CalledProcessError\n",
      "         TimeoutExpired\n",
      "      TokenError\n",
      "      StopTokenizing\n",
      "      ClassFoundException\n",
      "      EndOfBlock\n",
      "      TraitError\n",
      "      Error\n",
      "      Error\n",
      "         CancelledError\n",
      "         TimeoutError\n",
      "         InvalidStateError\n",
      "      _GiveupOnSendfile\n",
      "      error\n",
      "      Incomplete\n",
      "      TimeoutError\n",
      "      InvalidStateError\n",
      "      LimitOverrunError\n",
      "      QueueEmpty\n",
      "      QueueFull\n",
      "      Empty\n",
      "      Full\n",
      "      ArgumentError\n",
      "      ZMQBaseError\n",
      "         ZMQError\n",
      "            ContextTerminated\n",
      "            Again\n",
      "            InterruptedSystemCall\n",
      "         ZMQBindError\n",
      "         NotDone\n",
      "      PickleError\n",
      "         PicklingError\n",
      "         UnpicklingError\n",
      "      _Stop\n",
      "      ArgumentError\n",
      "      ArgumentTypeError\n",
      "      ConfigError\n",
      "         ConfigLoaderError\n",
      "            ArgumentError\n",
      "         ConfigFileNotFound\n",
      "      ConfigurableError\n",
      "         MultipleInstanceError\n",
      "      ApplicationError\n",
      "      error\n",
      "      TimeoutError\n",
      "      error\n",
      "      ReturnValueIgnoredError\n",
      "      KeyReuseError\n",
      "      UnknownKeyError\n",
      "      LeakedCallbackError\n",
      "      BadYieldError\n",
      "      ReturnValueIgnoredError\n",
      "      Return\n",
      "      InvalidPortNumber\n",
      "      error\n",
      "      LZMAError\n",
      "      RegistryError\n",
      "      _GiveupOnFastCopy\n",
      "      Error\n",
      "         NoSectionError\n",
      "         DuplicateSectionError\n",
      "         DuplicateOptionError\n",
      "         NoOptionError\n",
      "         InterpolationError\n",
      "            InterpolationMissingOptionError\n",
      "            InterpolationSyntaxError\n",
      "            InterpolationDepthError\n",
      "         ParsingError\n",
      "            MissingSectionHeaderError\n",
      "      NoIPAddresses\n",
      "      BadZipFile\n",
      "      LargeZipFile\n",
      "      BadEntryPoint\n",
      "      NoSuchEntryPoint\n",
      "      DuplicateKernelError\n",
      "      ErrorDuringImport\n",
      "      NotOneValueFound\n",
      "      CannotEval\n",
      "      OptionError\n",
      "      BdbQuit\n",
      "      Restart\n",
      "      ExceptionPexpect\n",
      "         EOF\n",
      "         TIMEOUT\n",
      "      PtyProcessError\n",
      "      FindCmdError\n",
      "      HomeDirError\n",
      "      ProfileDirError\n",
      "      IPythonCoreError\n",
      "         TryNext\n",
      "         UsageError\n",
      "         StdinNotImplementedError\n",
      "      InputRejected\n",
      "      GetoptError\n",
      "      ErrorToken\n",
      "      PrefilterError\n",
      "      AliasError\n",
      "         InvalidAliasError\n",
      "      Error\n",
      "         InterfaceError\n",
      "         DatabaseError\n",
      "            InternalError\n",
      "            OperationalError\n",
      "            ProgrammingError\n",
      "            IntegrityError\n",
      "            DataError\n",
      "            NotSupportedError\n",
      "      Warning\n",
      "      SpaceInInput\n",
      "      DOMException\n",
      "         IndexSizeErr\n",
      "         DomstringSizeErr\n",
      "         HierarchyRequestErr\n",
      "         WrongDocumentErr\n",
      "         InvalidCharacterErr\n",
      "         NoDataAllowedErr\n",
      "         NoModificationAllowedErr\n",
      "         NotFoundErr\n",
      "         NotSupportedErr\n",
      "         InuseAttributeErr\n",
      "         InvalidStateErr\n",
      "         SyntaxErr\n",
      "         InvalidModificationErr\n",
      "         NamespaceErr\n",
      "         InvalidAccessErr\n",
      "         ValidationErr\n",
      "      ValidationError\n",
      "      EditReadOnlyBuffer\n",
      "      _Retry\n",
      "      InvalidLayoutError\n",
      "      HeightIsUnknownError\n",
      "      ParserSyntaxError\n",
      "      InternalParseError\n",
      "      _PositionUpdatingFinished\n",
      "      SimpleGetItemNotFound\n",
      "      UncaughtAttributeError\n",
      "      HasNoContext\n",
      "      ParamIssue\n",
      "      _JediError\n",
      "         InternalError\n",
      "         WrongVersion\n",
      "         RefactoringError\n",
      "      OnErrorLeaf\n",
      "      InvalidPythonEnvironment\n",
      "      MessageError\n",
      "         MessageParseError\n",
      "            HeaderParseError\n",
      "            BoundaryError\n",
      "         MultipartConversionError\n",
      "         CharsetError\n",
      "      Error\n",
      "      HTTPException\n",
      "         NotConnected\n",
      "         InvalidURL\n",
      "         UnknownProtocol\n",
      "         UnknownTransferEncoding\n",
      "         UnimplementedFileMode\n",
      "         IncompleteRead\n",
      "         ImproperConnectionState\n",
      "            CannotSendRequest\n",
      "            CannotSendHeader\n",
      "            ResponseNotReady\n",
      "         BadStatusLine\n",
      "            RemoteDisconnected\n",
      "         LineTooLong\n",
      "      InteractivelyDefined\n",
      "      KillEmbedded\n",
      "      Error\n",
      "         NoSuchProcess\n",
      "            ZombieProcess\n",
      "         AccessDenied\n",
      "         TimeoutExpired\n",
      "      _Ipv6UnsupportedError\n",
      "      QueueEmpty\n",
      "      QueueFull\n",
      "      DebuggerInitializationError\n",
      "      ExpatError\n",
      "      Error\n",
      "         ProtocolError\n",
      "         ResponseError\n",
      "         Fault\n",
      "      ParseBaseException\n",
      "         ParseException\n",
      "         ParseFatalException\n",
      "            ParseSyntaxException\n",
      "      RecursiveGrammarException\n",
      "      ResolutionError\n",
      "         VersionConflict\n",
      "            ContextualVersionConflict\n",
      "         DistributionNotFound\n",
      "         UnknownExtra\n",
      "      _Error\n",
      "      UnableToResolveVariableException\n",
      "      InvalidTypeInArgsException\n",
      "   GeneratorExit\n",
      "   SystemExit\n",
      "   KeyboardInterrupt\n",
      "   CancelledError\n",
      "   AbortThread\n"
     ]
    }
   ],
   "source": [
    "def print_exception_hierarchy(cls, indent=0):\n",
    "    print(' ' * indent + cls.__name__)\n",
    "    for i in cls.__subclasses__():\n",
    "        print_exception_hierarchy(i, indent + 3)\n",
    "\n",
    "print_exception_hierarchy(BaseException)\n"
   ]
  },
  {
   "cell_type": "markdown",
   "id": "81cfece8-3417-48ce-9024-2aab8ac56de8",
   "metadata": {},
   "source": [
    "## Q3. What errors are defined in the ArithmeticError class? Explain any two with an example."
   ]
  },
  {
   "cell_type": "markdown",
   "id": "6bea0820-6535-4906-8d5a-585294743ff9",
   "metadata": {},
   "source": [
    "The ArithmeticError class in Python is a base class for all errors related to arithmetic operations. It represents errors that occur during mathematical computations."
   ]
  },
  {
   "cell_type": "markdown",
   "id": "f883f77e-83b4-45b9-b6df-3175e4628b5b",
   "metadata": {},
   "source": [
    "* ZeroDivisionError"
   ]
  },
  {
   "cell_type": "code",
   "execution_count": 1,
   "id": "2903e64f-b39f-4038-8cc5-fef9227712a5",
   "metadata": {},
   "outputs": [
    {
     "name": "stdout",
     "output_type": "stream",
     "text": [
      "denominator can't be zero\n"
     ]
    }
   ],
   "source": [
    "try:  \n",
    "    a=25\n",
    "    b=0\n",
    "    print(a/b)\n",
    "\n",
    "except ZeroDivisionError:\n",
    "    print(\"denominator can't be zero\")"
   ]
  },
  {
   "cell_type": "markdown",
   "id": "88b91421-a80f-4cef-a248-401bc4c226a3",
   "metadata": {},
   "source": [
    "* OverflowError"
   ]
  },
  {
   "cell_type": "code",
   "execution_count": 10,
   "id": "845ae0ba-9a82-4a27-994e-31944ca86a3b",
   "metadata": {},
   "outputs": [],
   "source": [
    "a = 10**1000\n",
    "\n",
    "try:\n",
    "    result = a * a\n",
    "except OverflowError:\n",
    "    print(\"The Result exceeds the maximum representable value.\")\n"
   ]
  },
  {
   "cell_type": "markdown",
   "id": "1a234999-478b-4ef2-a91d-1b2a5246289c",
   "metadata": {},
   "source": [
    "## Q4. Why LookupError class is used? Explain with an example KeyError and IndexError."
   ]
  },
  {
   "cell_type": "markdown",
   "id": "996b1c2b-c5ac-4821-937c-2726fed62d2e",
   "metadata": {},
   "source": [
    "The LookupError class in Python is a base class for errors that occur when a lookup or indexing operation fails. And basically it is a subclass of the Exception class."
   ]
  },
  {
   "cell_type": "code",
   "execution_count": 13,
   "id": "45aff5b8-e11b-4d17-a0f7-d0668b43d30b",
   "metadata": {},
   "outputs": [
    {
     "name": "stdout",
     "output_type": "stream",
     "text": [
      "Key not found in the dictionary.\n"
     ]
    }
   ],
   "source": [
    "# Example\n",
    "my_skills = {'subject': 'statistics', 'programming': 'python', 'language':'english'}\n",
    "\n",
    "try:\n",
    "    activity = my_skills['fitness']\n",
    "except KeyError:\n",
    "    print(\"Key not found in the dictionary.\")\n"
   ]
  },
  {
   "cell_type": "markdown",
   "id": "0bf970d9-bd90-4806-8193-4b4aa1999a31",
   "metadata": {},
   "source": [
    "IndexError is error occurs when you try to access an invalid index of a sequence, such as a list or a string. "
   ]
  },
  {
   "cell_type": "code",
   "execution_count": 1,
   "id": "7294483a-7ff1-45ca-9f2d-708a5c5bea7e",
   "metadata": {},
   "outputs": [
    {
     "name": "stdout",
     "output_type": "stream",
     "text": [
      "Index is invalid.\n"
     ]
    }
   ],
   "source": [
    "myList = [1, 2, 3,'sambit','kumar']\n",
    "\n",
    "try:\n",
    "    value = myList[6]\n",
    "except IndexError:\n",
    "    print(\"Index is invalid.\")"
   ]
  },
  {
   "cell_type": "markdown",
   "id": "04ceafd5-179a-49e3-9e65-e83469740d39",
   "metadata": {},
   "source": [
    "## Q5. Explain ImportError. What is ModuleNotFoundError?"
   ]
  },
  {
   "cell_type": "markdown",
   "id": "2a2e89c6-3417-41eb-a759-866f85d13207",
   "metadata": {},
   "source": [
    "When an import statement can't locate and load a module or a particular attribute from a module, Python throws the ImportError exception."
   ]
  },
  {
   "cell_type": "code",
   "execution_count": 2,
   "id": "ce065584-b03c-47f1-ac54-d46b9cb95bf2",
   "metadata": {},
   "outputs": [
    {
     "name": "stdout",
     "output_type": "stream",
     "text": [
      "Module could not be imported.\n"
     ]
    }
   ],
   "source": [
    "#Example\n",
    "\n",
    "try:\n",
    "    import ModuleNotExist\n",
    "except ImportError:\n",
    "    print(\"Module could not be imported.\")\n"
   ]
  },
  {
   "cell_type": "markdown",
   "id": "bb8c71ae-0dcb-4dd7-b6ee-d3309cc11d4b",
   "metadata": {},
   "source": [
    "ModuleNotFoundError is a specific subclass of ImportError. It is raised when the specified module cannot be found during the import process."
   ]
  },
  {
   "cell_type": "code",
   "execution_count": 3,
   "id": "ee988596-69e9-4d24-bacd-95ce2a40728b",
   "metadata": {},
   "outputs": [
    {
     "name": "stdout",
     "output_type": "stream",
     "text": [
      "Module not found.\n"
     ]
    }
   ],
   "source": [
    "# Example\n",
    "\n",
    "try:\n",
    "    import ModuleNotExist\n",
    "except ModuleNotFoundError:\n",
    "    print(\"Module not found.\")\n"
   ]
  },
  {
   "cell_type": "markdown",
   "id": "9a08e2bf-6a1d-4680-abfe-d12e1ee3466a",
   "metadata": {},
   "source": [
    "## Q6. List down some best practices for exception handling in python."
   ]
  },
  {
   "cell_type": "code",
   "execution_count": 4,
   "id": "17d80850-3135-4ad4-88ec-ce26eaf55e6f",
   "metadata": {},
   "outputs": [],
   "source": [
    "# Always try to log the exception \n",
    "\n",
    "import logging\n",
    "logging.basicConfig(filename=\"demo.log\", level=logging.ERROR)\n",
    "try:\n",
    "    10/0\n",
    "except ZeroDivisionError as e:\n",
    "    logging.error(\"this division is not implmented {}\".format(e))"
   ]
  },
  {
   "cell_type": "code",
   "execution_count": 6,
   "id": "1f4f6719-7910-4e9a-834d-23f717bbcc44",
   "metadata": {},
   "outputs": [
    {
     "name": "stdin",
     "output_type": "stream",
     "text": [
      "Enter the numerator:  12\n",
      "Enter the denominator:  0\n"
     ]
    },
    {
     "name": "stdout",
     "output_type": "stream",
     "text": [
      "Invalid input or division by zero occurred.\n"
     ]
    }
   ],
   "source": [
    "# Always avoid to write a multiple exception handling (But we can use the multiple exception but it's not convinient)\n",
    "try:\n",
    "    num1 = int(input(\"Enter the numerator: \"))\n",
    "    num2 = int(input(\"Enter the denominator: \"))\n",
    "    result = num1 / num2\n",
    "    print(\"Result:\", result)\n",
    "except (ValueError, ZeroDivisionError):\n",
    "    print(\"Invalid input or division by zero occurred.\")"
   ]
  },
  {
   "cell_type": "code",
   "execution_count": 2,
   "id": "fe03fd61-0fe8-41d1-80d0-3e7c3367f256",
   "metadata": {},
   "outputs": [
    {
     "name": "stdin",
     "output_type": "stream",
     "text": [
      "Enter the numerator:  we\n"
     ]
    },
    {
     "name": "stdout",
     "output_type": "stream",
     "text": [
      "Invalid input.\n"
     ]
    }
   ],
   "source": [
    "# Always try to prepare a proper documentations.\n",
    "try:\n",
    "    num1 = int(input(\"Enter the numerator: \"))\n",
    "    num2 = int(input(\"Enter the denominator: \"))\n",
    "    result = num1 / num2\n",
    "    print(\"Result:\", result)\n",
    "except ValueError:\n",
    "    # Handle the ValueError exception\n",
    "    print(\"Invalid input.\")\n",
    "except ZeroDivisionError:\n",
    "    # Handle the ZeroDivisionError exception\n",
    "    print(\"Division by zero not possible\")"
   ]
  },
  {
   "cell_type": "code",
   "execution_count": 4,
   "id": "a4875e99-d55c-4e67-9adb-96d2f92cc52b",
   "metadata": {},
   "outputs": [
    {
     "name": "stdout",
     "output_type": "stream",
     "text": [
      "there is no such exception so it is executed\n"
     ]
    }
   ],
   "source": [
    "# cleanup all the resources that means always close the file then Opened by using finaaly: f.close() code\n",
    "\n",
    "try:\n",
    "    f=open(\"demo.txt\",\"w\")\n",
    "    f.write(\"this is sprata\")\n",
    "    f.close()\n",
    "except Exception as e:     \n",
    "    print(\"there is some issue with my code\",e)\n",
    "    \n",
    "else:\n",
    "    f.close()\n",
    "    print(\"there is no such exception so it is executed\")"
   ]
  },
  {
   "cell_type": "code",
   "execution_count": 5,
   "id": "6288b4ce-e282-4a0b-906f-e1502972637f",
   "metadata": {},
   "outputs": [
    {
     "name": "stdin",
     "output_type": "stream",
     "text": [
      "Enter the numerator:  13\n",
      "Enter the denominator:  0\n"
     ]
    },
    {
     "name": "stdout",
     "output_type": "stream",
     "text": [
      "Error: Division by zero could not be possible.\n"
     ]
    }
   ],
   "source": [
    "#Describe the type of mistake the block handles in a succinct and understandable manner in the remark.\n",
    "\n",
    "try:\n",
    "    num1 = int(input(\"Enter the numerator: \"))\n",
    "    num2 = int(input(\"Enter the denominator: \"))\n",
    "    result = num1 / num2\n",
    "    print(\"Result:\", result)\n",
    "except ValueError:\n",
    "    # Handle the ValueError exception (Invalid input)\n",
    "    print(\"Error: Invalid input. Please enter valid integers to run the operation.\")\n",
    "except ZeroDivisionError:\n",
    "    # Handle the ZeroDivisionError exception (Division by zero)\n",
    "    print(\"Error: Division by zero could not be possible.\")"
   ]
  }
 ],
 "metadata": {
  "kernelspec": {
   "display_name": "Python 3 (ipykernel)",
   "language": "python",
   "name": "python3"
  },
  "language_info": {
   "codemirror_mode": {
    "name": "ipython",
    "version": 3
   },
   "file_extension": ".py",
   "mimetype": "text/x-python",
   "name": "python",
   "nbconvert_exporter": "python",
   "pygments_lexer": "ipython3",
   "version": "3.10.8"
  }
 },
 "nbformat": 4,
 "nbformat_minor": 5
}
